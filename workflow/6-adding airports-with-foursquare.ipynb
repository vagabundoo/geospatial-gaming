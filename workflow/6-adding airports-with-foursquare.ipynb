{
 "nbformat": 4,
 "nbformat_minor": 2,
 "metadata": {
  "language_info": {
   "name": "python",
   "codemirror_mode": {
    "name": "ipython",
    "version": 3
   },
   "version": "3.7.6-final"
  },
  "orig_nbformat": 2,
  "file_extension": ".py",
  "mimetype": "text/x-python",
  "name": "python",
  "npconvert_exporter": "python",
  "pygments_lexer": "ipython3",
  "version": 3,
  "kernelspec": {
   "name": "python37664bitc736265aa96942798be544ff59087e30",
   "display_name": "Python 3.7.6 64-bit"
  }
 },
 "cells": [
  {
   "cell_type": "code",
   "execution_count": 6,
   "metadata": {},
   "outputs": [
    {
     "data": {
      "text/html": "<div>\n<style scoped>\n    .dataframe tbody tr th:only-of-type {\n        vertical-align: middle;\n    }\n\n    .dataframe tbody tr th {\n        vertical-align: top;\n    }\n\n    .dataframe thead th {\n        text-align: right;\n    }\n</style>\n<table border=\"1\" class=\"dataframe\">\n  <thead>\n    <tr style=\"text-align: right;\">\n      <th></th>\n      <th>Unnamed: 0</th>\n      <th>_id</th>\n      <th>name</th>\n      <th>total_money_raised</th>\n      <th>latitude</th>\n      <th>longitude</th>\n      <th>geometry</th>\n    </tr>\n  </thead>\n  <tbody>\n    <tr>\n      <th>0</th>\n      <td>0</td>\n      <td>5e41272299bd8e3148da766e</td>\n      <td>Curse</td>\n      <td>$12M</td>\n      <td>37.787092</td>\n      <td>-122.399972</td>\n      <td>POINT (-122.39997 37.78709)</td>\n    </tr>\n    <tr>\n      <th>1</th>\n      <td>2</td>\n      <td>5e41272299bd8e3148da76bd</td>\n      <td>Grockit</td>\n      <td>$44.7M</td>\n      <td>37.775196</td>\n      <td>-122.419204</td>\n      <td>POINT (-122.41920 37.77520)</td>\n    </tr>\n    <tr>\n      <th>2</th>\n      <td>3</td>\n      <td>5e41272299bd8e3148da77cf</td>\n      <td>MocoSpace</td>\n      <td>$10.5M</td>\n      <td>42.350274</td>\n      <td>-71.058768</td>\n      <td>POINT (-71.05877 42.35027)</td>\n    </tr>\n    <tr>\n      <th>3</th>\n      <td>4</td>\n      <td>5e41272299bd8e3148da7816</td>\n      <td>OMGPOP</td>\n      <td>$16.6M</td>\n      <td>40.723384</td>\n      <td>-74.001704</td>\n      <td>POINT (-74.00170 40.72338)</td>\n    </tr>\n    <tr>\n      <th>4</th>\n      <td>6</td>\n      <td>5e41272299bd8e3148da7863</td>\n      <td>FlowPlay</td>\n      <td>$3.97M</td>\n      <td>47.601532</td>\n      <td>-122.335943</td>\n      <td>POINT (-122.33594 47.60153)</td>\n    </tr>\n  </tbody>\n</table>\n</div>",
      "text/plain": "   Unnamed: 0                       _id       name total_money_raised  \\\n0           0  5e41272299bd8e3148da766e      Curse               $12M   \n1           2  5e41272299bd8e3148da76bd    Grockit             $44.7M   \n2           3  5e41272299bd8e3148da77cf  MocoSpace             $10.5M   \n3           4  5e41272299bd8e3148da7816     OMGPOP             $16.6M   \n4           6  5e41272299bd8e3148da7863   FlowPlay             $3.97M   \n\n    latitude   longitude                     geometry  \n0  37.787092 -122.399972  POINT (-122.39997 37.78709)  \n1  37.775196 -122.419204  POINT (-122.41920 37.77520)  \n2  42.350274  -71.058768   POINT (-71.05877 42.35027)  \n3  40.723384  -74.001704   POINT (-74.00170 40.72338)  \n4  47.601532 -122.335943  POINT (-122.33594 47.60153)  "
     },
     "execution_count": 6,
     "metadata": {},
     "output_type": "execute_result"
    }
   ],
   "source": [
    "import pandas as pd\n",
    "import geopandas as gpd\n",
    "df = pd.read_csv('../output/companies-gaming-highlyfunded-starbucks.csv')\n",
    "gdf = gpd.GeoDataFrame(df, geometry=gpd.points_from_xy(df.longitude, df.latitude))\n",
    "gdf.head()"
   ]
  },
  {
   "cell_type": "code",
   "execution_count": 19,
   "metadata": {},
   "outputs": [
    {
     "name": "stderr",
     "output_type": "stream",
     "text": "Python-dotenv could not parse statement starting at line 4\nWe have a Foursquare id: N and secret V\n"
    }
   ],
   "source": [
    "import os\n",
    "from dotenv import load_dotenv\n",
    "load_dotenv()\n",
    "\n",
    "client_id = os.getenv(\"FourSquareID\")\n",
    "client_secret = os.getenv(\"FourSquareSecret\")\n",
    "print(f\"We have a Foursquare id: {client_id[0]} and secret {client_secret[0]}\")"
   ]
  },
  {
   "cell_type": "markdown",
   "execution_count": null,
   "metadata": {},
   "outputs": [],
   "source": [
    "# Making functions\n",
    "\n",
    "After some testing, we can make some functions to get the information we want from the foursquare API. \n",
    "Lets make use a function to get the number of daycare centers within 10km of the company location."
   ]
  },
  {
   "cell_type": "code",
   "execution_count": 86,
   "metadata": {},
   "outputs": [],
   "source": [
    "import json, requests\n",
    "\n",
    "def getVenues(lat,long,venuecode,radius=10000):\n",
    "    url = 'https://api.foursquare.com/v2/venues/search'\n",
    "    params = dict(\n",
    "    client_id=client_id,\n",
    "    client_secret=client_secret,\n",
    "    v='20180323',\n",
    "    ll=f'{lat},{long}',\n",
    "    categoryId='5744ccdfe4b0c0459246b4c7',\n",
    "    limit=50,\n",
    "    radius=radius\n",
    "    )\n",
    "    resp = requests.get(url=url, params=params)\n",
    "    data = json.loads(resp.text)\n",
    "    return data\n",
    "\n",
    "def countVenues(data):\n",
    "    return len(data['response']['venues'])\n",
    "\n",
    "def numberOfVenuesNear(dfnames, dflat, dflong, venuecode, radius=10000):\n",
    "    list = []\n",
    "    for name, lat, long in zip(dfnames, dflat, dflong):\n",
    "        list.append([name, lat, long, countVenues(getVenues(lat, long, venuecode, radius))])\n",
    "    return list\n"
   ]
  },
  {
   "cell_type": "markdown",
   "execution_count": null,
   "metadata": {},
   "outputs": [],
   "source": [
    "Now that we have made the functions, we can do some testing - and it seems to work great!"
   ]
  },
  {
   "cell_type": "code",
   "execution_count": 87,
   "metadata": {},
   "outputs": [],
   "source": [
    "venuecode = '5744ccdfe4b0c0459246b4c7' # Venuecode for daycare\n",
    "comps = numberOfVenuesNear(gdf.name, gdf.latitude, gdf.longitude, venuecode, radius = 5000)"
   ]
  },
  {
   "cell_type": "code",
   "execution_count": 92,
   "metadata": {},
   "outputs": [
    {
     "data": {
      "text/html": "<div>\n<style scoped>\n    .dataframe tbody tr th:only-of-type {\n        vertical-align: middle;\n    }\n\n    .dataframe tbody tr th {\n        vertical-align: top;\n    }\n\n    .dataframe thead th {\n        text-align: right;\n    }\n</style>\n<table border=\"1\" class=\"dataframe\">\n  <thead>\n    <tr style=\"text-align: right;\">\n      <th></th>\n      <th>name</th>\n      <th>latitude</th>\n      <th>longitutude</th>\n      <th>numberofdaycare</th>\n    </tr>\n  </thead>\n  <tbody>\n    <tr>\n      <th>0</th>\n      <td>Curse</td>\n      <td>37.787092</td>\n      <td>-122.399972</td>\n      <td>42</td>\n    </tr>\n    <tr>\n      <th>1</th>\n      <td>Grockit</td>\n      <td>37.775196</td>\n      <td>-122.419204</td>\n      <td>44</td>\n    </tr>\n    <tr>\n      <th>2</th>\n      <td>MocoSpace</td>\n      <td>42.350274</td>\n      <td>-71.058768</td>\n      <td>33</td>\n    </tr>\n    <tr>\n      <th>3</th>\n      <td>OMGPOP</td>\n      <td>40.723384</td>\n      <td>-74.001704</td>\n      <td>43</td>\n    </tr>\n    <tr>\n      <th>4</th>\n      <td>FlowPlay</td>\n      <td>47.601532</td>\n      <td>-122.335943</td>\n      <td>26</td>\n    </tr>\n    <tr>\n      <th>5</th>\n      <td>GamerDNA</td>\n      <td>42.375392</td>\n      <td>-71.118487</td>\n      <td>33</td>\n    </tr>\n    <tr>\n      <th>6</th>\n      <td>PlaySpan</td>\n      <td>37.396312</td>\n      <td>-121.961396</td>\n      <td>13</td>\n    </tr>\n    <tr>\n      <th>7</th>\n      <td>PlayFirst</td>\n      <td>37.790346</td>\n      <td>-122.401850</td>\n      <td>42</td>\n    </tr>\n    <tr>\n      <th>8</th>\n      <td>Challenge Games</td>\n      <td>30.268236</td>\n      <td>-97.740651</td>\n      <td>11</td>\n    </tr>\n    <tr>\n      <th>9</th>\n      <td>Outspark</td>\n      <td>37.775196</td>\n      <td>-122.419204</td>\n      <td>44</td>\n    </tr>\n    <tr>\n      <th>10</th>\n      <td>Zynga</td>\n      <td>37.765158</td>\n      <td>-122.404234</td>\n      <td>43</td>\n    </tr>\n    <tr>\n      <th>11</th>\n      <td>RocketOn</td>\n      <td>37.654660</td>\n      <td>-122.407880</td>\n      <td>10</td>\n    </tr>\n    <tr>\n      <th>12</th>\n      <td>TwoFish</td>\n      <td>37.522281</td>\n      <td>-122.258139</td>\n      <td>25</td>\n    </tr>\n    <tr>\n      <th>13</th>\n      <td>Three Rings</td>\n      <td>37.775196</td>\n      <td>-122.419204</td>\n      <td>44</td>\n    </tr>\n    <tr>\n      <th>14</th>\n      <td>Social Gaming Network</td>\n      <td>37.446823</td>\n      <td>-122.161523</td>\n      <td>22</td>\n    </tr>\n    <tr>\n      <th>15</th>\n      <td>Social Gaming Network</td>\n      <td>34.069849</td>\n      <td>-118.405418</td>\n      <td>9</td>\n    </tr>\n    <tr>\n      <th>16</th>\n      <td>crowdSPRING</td>\n      <td>41.885830</td>\n      <td>-87.657354</td>\n      <td>41</td>\n    </tr>\n    <tr>\n      <th>17</th>\n      <td>99designs</td>\n      <td>37.795531</td>\n      <td>-122.400598</td>\n      <td>42</td>\n    </tr>\n    <tr>\n      <th>18</th>\n      <td>99designs</td>\n      <td>-37.802659</td>\n      <td>144.986855</td>\n      <td>42</td>\n    </tr>\n    <tr>\n      <th>19</th>\n      <td>99designs</td>\n      <td>52.498620</td>\n      <td>13.446903</td>\n      <td>45</td>\n    </tr>\n    <tr>\n      <th>20</th>\n      <td>Akoha</td>\n      <td>45.516545</td>\n      <td>-73.578477</td>\n      <td>40</td>\n    </tr>\n    <tr>\n      <th>21</th>\n      <td>Playfish</td>\n      <td>51.499109</td>\n      <td>-0.198480</td>\n      <td>23</td>\n    </tr>\n    <tr>\n      <th>22</th>\n      <td>Playfish</td>\n      <td>69.636216</td>\n      <td>18.931062</td>\n      <td>5</td>\n    </tr>\n    <tr>\n      <th>23</th>\n      <td>Pikum</td>\n      <td>51.539778</td>\n      <td>-0.152998</td>\n      <td>14</td>\n    </tr>\n    <tr>\n      <th>24</th>\n      <td>Realtime Worlds</td>\n      <td>56.461428</td>\n      <td>-2.968111</td>\n      <td>0</td>\n    </tr>\n    <tr>\n      <th>25</th>\n      <td>Realtime Worlds</td>\n      <td>40.010492</td>\n      <td>-105.276843</td>\n      <td>9</td>\n    </tr>\n    <tr>\n      <th>26</th>\n      <td>Cellufun</td>\n      <td>40.739930</td>\n      <td>-73.993049</td>\n      <td>44</td>\n    </tr>\n    <tr>\n      <th>27</th>\n      <td>eRepublik</td>\n      <td>40.430940</td>\n      <td>-3.695290</td>\n      <td>26</td>\n    </tr>\n    <tr>\n      <th>28</th>\n      <td>WeeWorld</td>\n      <td>42.458900</td>\n      <td>-71.349521</td>\n      <td>1</td>\n    </tr>\n    <tr>\n      <th>29</th>\n      <td>WeeWorld</td>\n      <td>55.863171</td>\n      <td>-4.263517</td>\n      <td>3</td>\n    </tr>\n    <tr>\n      <th>30</th>\n      <td>Turbine</td>\n      <td>37.477652</td>\n      <td>-122.223384</td>\n      <td>18</td>\n    </tr>\n    <tr>\n      <th>31</th>\n      <td>Turbine</td>\n      <td>42.214483</td>\n      <td>-71.185964</td>\n      <td>7</td>\n    </tr>\n    <tr>\n      <th>32</th>\n      <td>Sometrics</td>\n      <td>34.048857</td>\n      <td>-118.251343</td>\n      <td>13</td>\n    </tr>\n    <tr>\n      <th>33</th>\n      <td>PurePlay</td>\n      <td>37.775196</td>\n      <td>-122.419204</td>\n      <td>44</td>\n    </tr>\n    <tr>\n      <th>34</th>\n      <td>Riot Games</td>\n      <td>34.002591</td>\n      <td>-118.394238</td>\n      <td>17</td>\n    </tr>\n    <tr>\n      <th>35</th>\n      <td>Minted</td>\n      <td>37.797435</td>\n      <td>-122.403175</td>\n      <td>42</td>\n    </tr>\n    <tr>\n      <th>36</th>\n      <td>Smule</td>\n      <td>37.779624</td>\n      <td>-122.391236</td>\n      <td>41</td>\n    </tr>\n    <tr>\n      <th>37</th>\n      <td>GotGame</td>\n      <td>37.777720</td>\n      <td>-122.395785</td>\n      <td>42</td>\n    </tr>\n    <tr>\n      <th>38</th>\n      <td>Double Fusion</td>\n      <td>37.788714</td>\n      <td>-122.392714</td>\n      <td>42</td>\n    </tr>\n    <tr>\n      <th>39</th>\n      <td>Unkasoft Advergaming</td>\n      <td>40.447436</td>\n      <td>-3.671492</td>\n      <td>26</td>\n    </tr>\n    <tr>\n      <th>40</th>\n      <td>Unkasoft Advergaming</td>\n      <td>41.001663</td>\n      <td>-5.693793</td>\n      <td>0</td>\n    </tr>\n    <tr>\n      <th>41</th>\n      <td>Geewa</td>\n      <td>50.093849</td>\n      <td>14.450534</td>\n      <td>39</td>\n    </tr>\n    <tr>\n      <th>42</th>\n      <td>Crispy Gamer</td>\n      <td>40.750597</td>\n      <td>-73.985273</td>\n      <td>42</td>\n    </tr>\n    <tr>\n      <th>43</th>\n      <td>Owlient</td>\n      <td>48.830809</td>\n      <td>2.303220</td>\n      <td>17</td>\n    </tr>\n    <tr>\n      <th>44</th>\n      <td>SCVNGR</td>\n      <td>42.340653</td>\n      <td>-71.068003</td>\n      <td>34</td>\n    </tr>\n    <tr>\n      <th>45</th>\n      <td>Virgin Play</td>\n      <td>40.427308</td>\n      <td>-3.689512</td>\n      <td>26</td>\n    </tr>\n    <tr>\n      <th>46</th>\n      <td>NetLogic Microsystems</td>\n      <td>37.420408</td>\n      <td>-122.088466</td>\n      <td>20</td>\n    </tr>\n    <tr>\n      <th>47</th>\n      <td>Bigpoint</td>\n      <td>53.597305</td>\n      <td>9.976252</td>\n      <td>42</td>\n    </tr>\n    <tr>\n      <th>48</th>\n      <td>Altobeam</td>\n      <td>55.902143</td>\n      <td>-3.208711</td>\n      <td>3</td>\n    </tr>\n  </tbody>\n</table>\n</div>",
      "text/plain": "                     name   latitude  longitutude  numberofdaycare\n0                   Curse  37.787092  -122.399972               42\n1                 Grockit  37.775196  -122.419204               44\n2               MocoSpace  42.350274   -71.058768               33\n3                  OMGPOP  40.723384   -74.001704               43\n4                FlowPlay  47.601532  -122.335943               26\n5                GamerDNA  42.375392   -71.118487               33\n6                PlaySpan  37.396312  -121.961396               13\n7               PlayFirst  37.790346  -122.401850               42\n8         Challenge Games  30.268236   -97.740651               11\n9                Outspark  37.775196  -122.419204               44\n10                  Zynga  37.765158  -122.404234               43\n11               RocketOn  37.654660  -122.407880               10\n12                TwoFish  37.522281  -122.258139               25\n13            Three Rings  37.775196  -122.419204               44\n14  Social Gaming Network  37.446823  -122.161523               22\n15  Social Gaming Network  34.069849  -118.405418                9\n16            crowdSPRING  41.885830   -87.657354               41\n17              99designs  37.795531  -122.400598               42\n18              99designs -37.802659   144.986855               42\n19              99designs  52.498620    13.446903               45\n20                  Akoha  45.516545   -73.578477               40\n21               Playfish  51.499109    -0.198480               23\n22               Playfish  69.636216    18.931062                5\n23                  Pikum  51.539778    -0.152998               14\n24        Realtime Worlds  56.461428    -2.968111                0\n25        Realtime Worlds  40.010492  -105.276843                9\n26               Cellufun  40.739930   -73.993049               44\n27              eRepublik  40.430940    -3.695290               26\n28               WeeWorld  42.458900   -71.349521                1\n29               WeeWorld  55.863171    -4.263517                3\n30                Turbine  37.477652  -122.223384               18\n31                Turbine  42.214483   -71.185964                7\n32              Sometrics  34.048857  -118.251343               13\n33               PurePlay  37.775196  -122.419204               44\n34             Riot Games  34.002591  -118.394238               17\n35                 Minted  37.797435  -122.403175               42\n36                  Smule  37.779624  -122.391236               41\n37                GotGame  37.777720  -122.395785               42\n38          Double Fusion  37.788714  -122.392714               42\n39   Unkasoft Advergaming  40.447436    -3.671492               26\n40   Unkasoft Advergaming  41.001663    -5.693793                0\n41                  Geewa  50.093849    14.450534               39\n42           Crispy Gamer  40.750597   -73.985273               42\n43                Owlient  48.830809     2.303220               17\n44                 SCVNGR  42.340653   -71.068003               34\n45            Virgin Play  40.427308    -3.689512               26\n46  NetLogic Microsystems  37.420408  -122.088466               20\n47               Bigpoint  53.597305     9.976252               42\n48               Altobeam  55.902143    -3.208711                3"
     },
     "execution_count": 92,
     "metadata": {},
     "output_type": "execute_result"
    }
   ],
   "source": [
    "compdaycare = pd.DataFrame(comps, columns = ['name','latitude', 'longitutude','numberofdaycare'])\n",
    "compdaycare"
   ]
  },
  {
   "cell_type": "code",
   "execution_count": 89,
   "metadata": {},
   "outputs": [],
   "source": [
    "compdaycare.to_csv(\"../output/compsanddaycare.csv\")"
   ]
  },
  {
   "cell_type": "markdown",
   "execution_count": null,
   "metadata": {},
   "outputs": [],
   "source": [
    "And with this we have a list of companies, specialized in design/gaming, with at least 1M USD raised in funding, within 2km of a starbucks, and with the number of daycare venues within a 5km radius noted next to it.\n",
    "\n",
    "Let us sort the result CSV as well."
   ]
  },
  {
   "cell_type": "code",
   "execution_count": 96,
   "metadata": {},
   "outputs": [
    {
     "data": {
      "text/html": "<div>\n<style scoped>\n    .dataframe tbody tr th:only-of-type {\n        vertical-align: middle;\n    }\n\n    .dataframe tbody tr th {\n        vertical-align: top;\n    }\n\n    .dataframe thead th {\n        text-align: right;\n    }\n</style>\n<table border=\"1\" class=\"dataframe\">\n  <thead>\n    <tr style=\"text-align: right;\">\n      <th></th>\n      <th>name</th>\n      <th>latitude</th>\n      <th>longitutude</th>\n      <th>numberofdaycare</th>\n    </tr>\n  </thead>\n  <tbody>\n    <tr>\n      <th>19</th>\n      <td>99designs</td>\n      <td>52.498620</td>\n      <td>13.446903</td>\n      <td>45</td>\n    </tr>\n    <tr>\n      <th>33</th>\n      <td>PurePlay</td>\n      <td>37.775196</td>\n      <td>-122.419204</td>\n      <td>44</td>\n    </tr>\n    <tr>\n      <th>13</th>\n      <td>Three Rings</td>\n      <td>37.775196</td>\n      <td>-122.419204</td>\n      <td>44</td>\n    </tr>\n    <tr>\n      <th>26</th>\n      <td>Cellufun</td>\n      <td>40.739930</td>\n      <td>-73.993049</td>\n      <td>44</td>\n    </tr>\n    <tr>\n      <th>1</th>\n      <td>Grockit</td>\n      <td>37.775196</td>\n      <td>-122.419204</td>\n      <td>44</td>\n    </tr>\n    <tr>\n      <th>9</th>\n      <td>Outspark</td>\n      <td>37.775196</td>\n      <td>-122.419204</td>\n      <td>44</td>\n    </tr>\n    <tr>\n      <th>3</th>\n      <td>OMGPOP</td>\n      <td>40.723384</td>\n      <td>-74.001704</td>\n      <td>43</td>\n    </tr>\n    <tr>\n      <th>10</th>\n      <td>Zynga</td>\n      <td>37.765158</td>\n      <td>-122.404234</td>\n      <td>43</td>\n    </tr>\n    <tr>\n      <th>35</th>\n      <td>Minted</td>\n      <td>37.797435</td>\n      <td>-122.403175</td>\n      <td>42</td>\n    </tr>\n    <tr>\n      <th>47</th>\n      <td>Bigpoint</td>\n      <td>53.597305</td>\n      <td>9.976252</td>\n      <td>42</td>\n    </tr>\n    <tr>\n      <th>37</th>\n      <td>GotGame</td>\n      <td>37.777720</td>\n      <td>-122.395785</td>\n      <td>42</td>\n    </tr>\n    <tr>\n      <th>38</th>\n      <td>Double Fusion</td>\n      <td>37.788714</td>\n      <td>-122.392714</td>\n      <td>42</td>\n    </tr>\n    <tr>\n      <th>18</th>\n      <td>99designs</td>\n      <td>-37.802659</td>\n      <td>144.986855</td>\n      <td>42</td>\n    </tr>\n    <tr>\n      <th>0</th>\n      <td>Curse</td>\n      <td>37.787092</td>\n      <td>-122.399972</td>\n      <td>42</td>\n    </tr>\n    <tr>\n      <th>7</th>\n      <td>PlayFirst</td>\n      <td>37.790346</td>\n      <td>-122.401850</td>\n      <td>42</td>\n    </tr>\n    <tr>\n      <th>42</th>\n      <td>Crispy Gamer</td>\n      <td>40.750597</td>\n      <td>-73.985273</td>\n      <td>42</td>\n    </tr>\n    <tr>\n      <th>17</th>\n      <td>99designs</td>\n      <td>37.795531</td>\n      <td>-122.400598</td>\n      <td>42</td>\n    </tr>\n    <tr>\n      <th>16</th>\n      <td>crowdSPRING</td>\n      <td>41.885830</td>\n      <td>-87.657354</td>\n      <td>41</td>\n    </tr>\n    <tr>\n      <th>36</th>\n      <td>Smule</td>\n      <td>37.779624</td>\n      <td>-122.391236</td>\n      <td>41</td>\n    </tr>\n    <tr>\n      <th>20</th>\n      <td>Akoha</td>\n      <td>45.516545</td>\n      <td>-73.578477</td>\n      <td>40</td>\n    </tr>\n    <tr>\n      <th>41</th>\n      <td>Geewa</td>\n      <td>50.093849</td>\n      <td>14.450534</td>\n      <td>39</td>\n    </tr>\n    <tr>\n      <th>44</th>\n      <td>SCVNGR</td>\n      <td>42.340653</td>\n      <td>-71.068003</td>\n      <td>34</td>\n    </tr>\n    <tr>\n      <th>5</th>\n      <td>GamerDNA</td>\n      <td>42.375392</td>\n      <td>-71.118487</td>\n      <td>33</td>\n    </tr>\n    <tr>\n      <th>2</th>\n      <td>MocoSpace</td>\n      <td>42.350274</td>\n      <td>-71.058768</td>\n      <td>33</td>\n    </tr>\n    <tr>\n      <th>45</th>\n      <td>Virgin Play</td>\n      <td>40.427308</td>\n      <td>-3.689512</td>\n      <td>26</td>\n    </tr>\n    <tr>\n      <th>39</th>\n      <td>Unkasoft Advergaming</td>\n      <td>40.447436</td>\n      <td>-3.671492</td>\n      <td>26</td>\n    </tr>\n    <tr>\n      <th>27</th>\n      <td>eRepublik</td>\n      <td>40.430940</td>\n      <td>-3.695290</td>\n      <td>26</td>\n    </tr>\n    <tr>\n      <th>4</th>\n      <td>FlowPlay</td>\n      <td>47.601532</td>\n      <td>-122.335943</td>\n      <td>26</td>\n    </tr>\n    <tr>\n      <th>12</th>\n      <td>TwoFish</td>\n      <td>37.522281</td>\n      <td>-122.258139</td>\n      <td>25</td>\n    </tr>\n    <tr>\n      <th>21</th>\n      <td>Playfish</td>\n      <td>51.499109</td>\n      <td>-0.198480</td>\n      <td>23</td>\n    </tr>\n    <tr>\n      <th>14</th>\n      <td>Social Gaming Network</td>\n      <td>37.446823</td>\n      <td>-122.161523</td>\n      <td>22</td>\n    </tr>\n    <tr>\n      <th>46</th>\n      <td>NetLogic Microsystems</td>\n      <td>37.420408</td>\n      <td>-122.088466</td>\n      <td>20</td>\n    </tr>\n    <tr>\n      <th>30</th>\n      <td>Turbine</td>\n      <td>37.477652</td>\n      <td>-122.223384</td>\n      <td>18</td>\n    </tr>\n    <tr>\n      <th>34</th>\n      <td>Riot Games</td>\n      <td>34.002591</td>\n      <td>-118.394238</td>\n      <td>17</td>\n    </tr>\n    <tr>\n      <th>43</th>\n      <td>Owlient</td>\n      <td>48.830809</td>\n      <td>2.303220</td>\n      <td>17</td>\n    </tr>\n    <tr>\n      <th>23</th>\n      <td>Pikum</td>\n      <td>51.539778</td>\n      <td>-0.152998</td>\n      <td>14</td>\n    </tr>\n    <tr>\n      <th>32</th>\n      <td>Sometrics</td>\n      <td>34.048857</td>\n      <td>-118.251343</td>\n      <td>13</td>\n    </tr>\n    <tr>\n      <th>6</th>\n      <td>PlaySpan</td>\n      <td>37.396312</td>\n      <td>-121.961396</td>\n      <td>13</td>\n    </tr>\n    <tr>\n      <th>8</th>\n      <td>Challenge Games</td>\n      <td>30.268236</td>\n      <td>-97.740651</td>\n      <td>11</td>\n    </tr>\n    <tr>\n      <th>11</th>\n      <td>RocketOn</td>\n      <td>37.654660</td>\n      <td>-122.407880</td>\n      <td>10</td>\n    </tr>\n    <tr>\n      <th>25</th>\n      <td>Realtime Worlds</td>\n      <td>40.010492</td>\n      <td>-105.276843</td>\n      <td>9</td>\n    </tr>\n    <tr>\n      <th>15</th>\n      <td>Social Gaming Network</td>\n      <td>34.069849</td>\n      <td>-118.405418</td>\n      <td>9</td>\n    </tr>\n    <tr>\n      <th>31</th>\n      <td>Turbine</td>\n      <td>42.214483</td>\n      <td>-71.185964</td>\n      <td>7</td>\n    </tr>\n    <tr>\n      <th>22</th>\n      <td>Playfish</td>\n      <td>69.636216</td>\n      <td>18.931062</td>\n      <td>5</td>\n    </tr>\n    <tr>\n      <th>48</th>\n      <td>Altobeam</td>\n      <td>55.902143</td>\n      <td>-3.208711</td>\n      <td>3</td>\n    </tr>\n    <tr>\n      <th>29</th>\n      <td>WeeWorld</td>\n      <td>55.863171</td>\n      <td>-4.263517</td>\n      <td>3</td>\n    </tr>\n    <tr>\n      <th>28</th>\n      <td>WeeWorld</td>\n      <td>42.458900</td>\n      <td>-71.349521</td>\n      <td>1</td>\n    </tr>\n    <tr>\n      <th>40</th>\n      <td>Unkasoft Advergaming</td>\n      <td>41.001663</td>\n      <td>-5.693793</td>\n      <td>0</td>\n    </tr>\n    <tr>\n      <th>24</th>\n      <td>Realtime Worlds</td>\n      <td>56.461428</td>\n      <td>-2.968111</td>\n      <td>0</td>\n    </tr>\n  </tbody>\n</table>\n</div>",
      "text/plain": "                     name   latitude  longitutude  numberofdaycare\n19              99designs  52.498620    13.446903               45\n33               PurePlay  37.775196  -122.419204               44\n13            Three Rings  37.775196  -122.419204               44\n26               Cellufun  40.739930   -73.993049               44\n1                 Grockit  37.775196  -122.419204               44\n9                Outspark  37.775196  -122.419204               44\n3                  OMGPOP  40.723384   -74.001704               43\n10                  Zynga  37.765158  -122.404234               43\n35                 Minted  37.797435  -122.403175               42\n47               Bigpoint  53.597305     9.976252               42\n37                GotGame  37.777720  -122.395785               42\n38          Double Fusion  37.788714  -122.392714               42\n18              99designs -37.802659   144.986855               42\n0                   Curse  37.787092  -122.399972               42\n7               PlayFirst  37.790346  -122.401850               42\n42           Crispy Gamer  40.750597   -73.985273               42\n17              99designs  37.795531  -122.400598               42\n16            crowdSPRING  41.885830   -87.657354               41\n36                  Smule  37.779624  -122.391236               41\n20                  Akoha  45.516545   -73.578477               40\n41                  Geewa  50.093849    14.450534               39\n44                 SCVNGR  42.340653   -71.068003               34\n5                GamerDNA  42.375392   -71.118487               33\n2               MocoSpace  42.350274   -71.058768               33\n45            Virgin Play  40.427308    -3.689512               26\n39   Unkasoft Advergaming  40.447436    -3.671492               26\n27              eRepublik  40.430940    -3.695290               26\n4                FlowPlay  47.601532  -122.335943               26\n12                TwoFish  37.522281  -122.258139               25\n21               Playfish  51.499109    -0.198480               23\n14  Social Gaming Network  37.446823  -122.161523               22\n46  NetLogic Microsystems  37.420408  -122.088466               20\n30                Turbine  37.477652  -122.223384               18\n34             Riot Games  34.002591  -118.394238               17\n43                Owlient  48.830809     2.303220               17\n23                  Pikum  51.539778    -0.152998               14\n32              Sometrics  34.048857  -118.251343               13\n6                PlaySpan  37.396312  -121.961396               13\n8         Challenge Games  30.268236   -97.740651               11\n11               RocketOn  37.654660  -122.407880               10\n25        Realtime Worlds  40.010492  -105.276843                9\n15  Social Gaming Network  34.069849  -118.405418                9\n31                Turbine  42.214483   -71.185964                7\n22               Playfish  69.636216    18.931062                5\n48               Altobeam  55.902143    -3.208711                3\n29               WeeWorld  55.863171    -4.263517                3\n28               WeeWorld  42.458900   -71.349521                1\n40   Unkasoft Advergaming  41.001663    -5.693793                0\n24        Realtime Worlds  56.461428    -2.968111                0"
     },
     "execution_count": 96,
     "metadata": {},
     "output_type": "execute_result"
    }
   ],
   "source": [
    "compdaycare.sort_values(by = ['numberofdaycare'], ascending = False)"
   ]
  },
  {
   "cell_type": "code",
   "execution_count": 97,
   "metadata": {},
   "outputs": [],
   "source": [
    "compdaycare.to_csv(\"../output/compsanddaycare.csv\")"
   ]
  },
  {
   "cell_type": "code",
   "execution_count": null,
   "metadata": {},
   "outputs": [],
   "source": []
  }
 ]
}