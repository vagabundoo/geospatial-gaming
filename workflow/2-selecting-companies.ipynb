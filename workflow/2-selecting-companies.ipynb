{
 "nbformat": 4,
 "nbformat_minor": 2,
 "metadata": {
  "language_info": {
   "name": "python",
   "codemirror_mode": {
    "name": "ipython",
    "version": 3
   },
   "version": "3.7.6-final"
  },
  "orig_nbformat": 2,
  "file_extension": ".py",
  "mimetype": "text/x-python",
  "name": "python",
  "npconvert_exporter": "python",
  "pygments_lexer": "ipython3",
  "version": 3,
  "kernelspec": {
   "name": "python37664bitc736265aa96942798be544ff59087e30",
   "display_name": "Python 3.7.6 64-bit"
  }
 },
 "cells": [
  {
   "cell_type": "markdown",
   "execution_count": null,
   "metadata": {},
   "outputs": [],
   "source": [
    "# Making sublists of companies\n",
    "\n",
    "With our dataset cleaned in for geolocation queries, the next steps is to start working down the criteria. We can start with the criteria that we can tackle with just the company dataset we have. \n",
    "\n",
    "1. Designers like to go to design talks and share knowledge. There must be some nearby companies that also do design.\n",
    "2. Developers like to be near successful tech startups that have raised at least 1 Million dollars.\n",
    "3. Nobody in the company likes to have companies with more than 10 years in a radius of 2 KM.\n",
    "\n",
    "On criteria 1, just including design companies seems very restrictive. We can interpret design more broadly, and include companies that make games in there as well, especially given that this is a gaming company we are placing.\n",
    "\n",
    "Criteria 3 we will ignore for now, since a quick query showed that it severely restricts the amount of companies.\n"
   ]
  },
  {
   "cell_type": "code",
   "execution_count": 1,
   "metadata": {},
   "outputs": [],
   "source": [
    "# We can use the following regex for it.\n",
    "# regex filter for design: {description_1: {$regex: \"design\" }}\n"
   ]
  },
  {
   "cell_type": "code",
   "execution_count": 2,
   "metadata": {},
   "outputs": [],
   "source": [
    "from pymongo import MongoClient\n",
    "import pandas as pd\n"
   ]
  },
  {
   "cell_type": "code",
   "execution_count": 3,
   "metadata": {},
   "outputs": [],
   "source": [
    "client = MongoClient(\"mongodb://localhost/companies\")\n",
    "db = client.get_database()\n",
    "c = \"companies_wlocation\""
   ]
  },
  {
   "cell_type": "code",
   "execution_count": 4,
   "metadata": {},
   "outputs": [],
   "source": [
    "moneyRaised = list(db[c].find({\"description_1\": {\"$regex\": \"game*|design\" }}, {\"total_money_raised\":1}\n",
    "))\n",
    "# moneyRaised"
   ]
  },
  {
   "cell_type": "markdown",
   "execution_count": 5,
   "metadata": {},
   "outputs": [
    {
     "data": {
      "text/plain": "[]"
     },
     "execution_count": 5,
     "metadata": {},
     "output_type": "execute_result"
    }
   ],
   "source": [
    "Having looked at how the total money raised cell is structured we notice two things: \n",
    "\n",
    "1. It seems that all of these companies have raised money in USD and will likely be in the US. We will probably need another database if we want to expand our reach beyond the US.\n",
    "2. We can use a regex to select those companies which have raised more than 1M USD"
   ]
  },
  {
   "cell_type": "code",
   "execution_count": 5,
   "metadata": {},
   "outputs": [
    {
     "data": {
      "text/plain": "(85, 51)"
     },
     "execution_count": 5,
     "metadata": {},
     "output_type": "execute_result"
    }
   ],
   "source": [
    "over1M = pd.DataFrame(list(db[c].find({\"$and\": [{\"description_1\": {\"$regex\": \"game*|design\"}}, {\"total_money_raised\": {\"$regex\": \"M\" }}]}))) #[\"name\", \"total_money_raised\", \"latitude\", \"longitude\", \"location\"] # This is a projection we can add\n",
    "over1M.shape\n",
    "# This leaves us with 85 companies that we can place ours close to."
   ]
  },
  {
   "cell_type": "code",
   "execution_count": 6,
   "metadata": {},
   "outputs": [
    {
     "data": {
      "text/html": "<div>\n<style scoped>\n    .dataframe tbody tr th:only-of-type {\n        vertical-align: middle;\n    }\n\n    .dataframe tbody tr th {\n        vertical-align: top;\n    }\n\n    .dataframe thead th {\n        text-align: right;\n    }\n</style>\n<table border=\"1\" class=\"dataframe\">\n  <thead>\n    <tr style=\"text-align: right;\">\n      <th></th>\n      <th>_id</th>\n      <th>name</th>\n      <th>permalink</th>\n      <th>crunchbase_url</th>\n      <th>homepage_url</th>\n      <th>blog_url</th>\n      <th>blog_feed_url</th>\n      <th>twitter_username</th>\n      <th>category_code</th>\n      <th>number_of_employees</th>\n      <th>...</th>\n      <th>description_2</th>\n      <th>address1</th>\n      <th>address2</th>\n      <th>zip_code</th>\n      <th>city</th>\n      <th>state_code</th>\n      <th>country_code</th>\n      <th>latitude</th>\n      <th>longitude</th>\n      <th>location</th>\n    </tr>\n  </thead>\n  <tbody>\n    <tr>\n      <th>0</th>\n      <td>5e41272299bd8e3148da766e</td>\n      <td>Curse</td>\n      <td>curse</td>\n      <td>http://www.crunchbase.com/company/curse</td>\n      <td>http://www.curse.com</td>\n      <td></td>\n      <td></td>\n      <td>cursenetwork</td>\n      <td>games_video</td>\n      <td>58.0</td>\n      <td>...</td>\n      <td>San Francisco</td>\n      <td>60 Broadway</td>\n      <td></td>\n      <td>94111</td>\n      <td>San Francisco</td>\n      <td>CA</td>\n      <td>USA</td>\n      <td>37.787092</td>\n      <td>-122.399972</td>\n      <td>{'type': 'Point', 'coordinates': [-122.399972,...</td>\n    </tr>\n    <tr>\n      <th>1</th>\n      <td>5e41272299bd8e3148da7674</td>\n      <td>Curse</td>\n      <td>curse</td>\n      <td>http://www.crunchbase.com/company/curse</td>\n      <td>http://www.curse.com</td>\n      <td></td>\n      <td></td>\n      <td>cursenetwork</td>\n      <td>games_video</td>\n      <td>58.0</td>\n      <td>...</td>\n      <td>Huntsville</td>\n      <td>150 West Park Loop NW</td>\n      <td></td>\n      <td>35806</td>\n      <td>Huntsville</td>\n      <td>AL</td>\n      <td>USA</td>\n      <td>NaN</td>\n      <td>NaN</td>\n      <td>None</td>\n    </tr>\n    <tr>\n      <th>2</th>\n      <td>5e41272299bd8e3148da76bd</td>\n      <td>Grockit</td>\n      <td>grockit</td>\n      <td>http://www.crunchbase.com/company/grockit</td>\n      <td>http://grockit.com</td>\n      <td>http://blog.grockit.com</td>\n      <td></td>\n      <td>grockit</td>\n      <td>social</td>\n      <td>25.0</td>\n      <td>...</td>\n      <td></td>\n      <td>500 Third Street</td>\n      <td>Suite 260</td>\n      <td>94107</td>\n      <td>San Francisco</td>\n      <td>CA</td>\n      <td>USA</td>\n      <td>37.775196</td>\n      <td>-122.419204</td>\n      <td>{'type': 'Point', 'coordinates': [-122.419204,...</td>\n    </tr>\n    <tr>\n      <th>3</th>\n      <td>5e41272299bd8e3148da77cf</td>\n      <td>MocoSpace</td>\n      <td>mocospace</td>\n      <td>http://www.crunchbase.com/company/mocospace</td>\n      <td>http://www.mocospace.com</td>\n      <td></td>\n      <td></td>\n      <td>mocospace</td>\n      <td>games_video</td>\n      <td>25.0</td>\n      <td>...</td>\n      <td></td>\n      <td></td>\n      <td></td>\n      <td>02111</td>\n      <td>Boston</td>\n      <td>MA</td>\n      <td>USA</td>\n      <td>42.350274</td>\n      <td>-71.058768</td>\n      <td>{'type': 'Point', 'coordinates': [-71.058768, ...</td>\n    </tr>\n    <tr>\n      <th>4</th>\n      <td>5e41272299bd8e3148da7816</td>\n      <td>OMGPOP</td>\n      <td>omgpop</td>\n      <td>http://www.crunchbase.com/company/omgpop</td>\n      <td>http://omgpop.com</td>\n      <td>http://blog.iminlikewithyou.com/</td>\n      <td>http://blog.iminlikewithyou.com/rss</td>\n      <td>omgpop</td>\n      <td>games_video</td>\n      <td>50.0</td>\n      <td>...</td>\n      <td></td>\n      <td>SoHo</td>\n      <td></td>\n      <td></td>\n      <td>New York</td>\n      <td>NY</td>\n      <td>USA</td>\n      <td>40.723384</td>\n      <td>-74.001704</td>\n      <td>{'type': 'Point', 'coordinates': [-74.001704, ...</td>\n    </tr>\n  </tbody>\n</table>\n<p>5 rows × 51 columns</p>\n</div>",
      "text/plain": "                        _id       name  permalink  \\\n0  5e41272299bd8e3148da766e      Curse      curse   \n1  5e41272299bd8e3148da7674      Curse      curse   \n2  5e41272299bd8e3148da76bd    Grockit    grockit   \n3  5e41272299bd8e3148da77cf  MocoSpace  mocospace   \n4  5e41272299bd8e3148da7816     OMGPOP     omgpop   \n\n                                crunchbase_url              homepage_url  \\\n0      http://www.crunchbase.com/company/curse      http://www.curse.com   \n1      http://www.crunchbase.com/company/curse      http://www.curse.com   \n2    http://www.crunchbase.com/company/grockit        http://grockit.com   \n3  http://www.crunchbase.com/company/mocospace  http://www.mocospace.com   \n4     http://www.crunchbase.com/company/omgpop         http://omgpop.com   \n\n                           blog_url                        blog_feed_url  \\\n0                                                                          \n1                                                                          \n2           http://blog.grockit.com                                        \n3                                                                          \n4  http://blog.iminlikewithyou.com/  http://blog.iminlikewithyou.com/rss   \n\n  twitter_username category_code  number_of_employees  ...  description_2  \\\n0     cursenetwork   games_video                 58.0  ...  San Francisco   \n1     cursenetwork   games_video                 58.0  ...     Huntsville   \n2          grockit        social                 25.0  ...                  \n3        mocospace   games_video                 25.0  ...                  \n4           omgpop   games_video                 50.0  ...                  \n\n                address1   address2 zip_code           city state_code  \\\n0            60 Broadway               94111  San Francisco         CA   \n1  150 West Park Loop NW               35806     Huntsville         AL   \n2       500 Third Street  Suite 260    94107  San Francisco         CA   \n3                                      02111         Boston         MA   \n4                   SoHo                           New York         NY   \n\n  country_code   latitude   longitude  \\\n0          USA  37.787092 -122.399972   \n1          USA        NaN         NaN   \n2          USA  37.775196 -122.419204   \n3          USA  42.350274  -71.058768   \n4          USA  40.723384  -74.001704   \n\n                                            location  \n0  {'type': 'Point', 'coordinates': [-122.399972,...  \n1                                               None  \n2  {'type': 'Point', 'coordinates': [-122.419204,...  \n3  {'type': 'Point', 'coordinates': [-71.058768, ...  \n4  {'type': 'Point', 'coordinates': [-74.001704, ...  \n\n[5 rows x 51 columns]"
     },
     "execution_count": 6,
     "metadata": {},
     "output_type": "execute_result"
    }
   ],
   "source": [
    "over1M.columns\n",
    "over1M.head()\n",
    "#over1M.explode('location')"
   ]
  },
  {
   "cell_type": "code",
   "execution_count": 7,
   "metadata": {},
   "outputs": [],
   "source": [
    "import geopandas as gpd\n",
    "from geopy.distance import distance\n",
    "from shapely.geometry import Point\n",
    "import matplotlib.pyplot as plt\n",
    "from cartoframes.viz import Map, Layer\n",
    "from cartoframes.viz.helpers import size_continuous_layer\n",
    "from cartoframes.viz.widgets import histogram_widget\n",
    "import numpy as np\n",
    "\n",
    "%matplotlib inline\n"
   ]
  },
  {
   "cell_type": "markdown",
   "execution_count": null,
   "metadata": {},
   "outputs": [],
   "source": [
    "I got an error when trying to visualize the dataframe, which is likely because there are some lattitudes/longitudes that do not exist. We can filter these out of the dataframe. We need to limit latitude to -90 to 90, and longitude to -180 to 180."
   ]
  },
  {
   "cell_type": "code",
   "execution_count": 8,
   "metadata": {},
   "outputs": [
    {
     "ename": "OverflowError",
     "evalue": "Unterminated UTF-8 sequence when encoding string",
     "output_type": "error",
     "traceback": [
      "\u001b[0;31m---------------------------------------------------------------------------\u001b[0m",
      "\u001b[0;31mOverflowError\u001b[0m                             Traceback (most recent call last)",
      "\u001b[0;32m<ipython-input-8-60b93db0904c>\u001b[0m in \u001b[0;36m<module>\u001b[0;34m\u001b[0m\n\u001b[1;32m      1\u001b[0m \u001b[0mover1M\u001b[0m \u001b[0;34m=\u001b[0m \u001b[0mover1M\u001b[0m\u001b[0;34m[\u001b[0m\u001b[0;34m(\u001b[0m\u001b[0mover1M\u001b[0m\u001b[0;34m[\u001b[0m\u001b[0;34m'latitude'\u001b[0m\u001b[0;34m]\u001b[0m \u001b[0;34m<\u001b[0m \u001b[0;36m90\u001b[0m\u001b[0;34m)\u001b[0m \u001b[0;34m&\u001b[0m \u001b[0;34m(\u001b[0m\u001b[0mover1M\u001b[0m\u001b[0;34m[\u001b[0m\u001b[0;34m'latitude'\u001b[0m\u001b[0;34m]\u001b[0m \u001b[0;34m>\u001b[0m \u001b[0;34m-\u001b[0m\u001b[0;36m90\u001b[0m\u001b[0;34m)\u001b[0m \u001b[0;34m&\u001b[0m \u001b[0;34m(\u001b[0m\u001b[0mover1M\u001b[0m\u001b[0;34m[\u001b[0m\u001b[0;34m'longitude'\u001b[0m\u001b[0;34m]\u001b[0m \u001b[0;34m<\u001b[0m \u001b[0;36m180\u001b[0m\u001b[0;34m)\u001b[0m \u001b[0;34m&\u001b[0m \u001b[0;34m(\u001b[0m\u001b[0mover1M\u001b[0m\u001b[0;34m[\u001b[0m\u001b[0;34m'longitude'\u001b[0m\u001b[0;34m]\u001b[0m \u001b[0;34m>\u001b[0m \u001b[0;34m-\u001b[0m\u001b[0;36m180\u001b[0m\u001b[0;34m)\u001b[0m\u001b[0;34m]\u001b[0m\u001b[0;34m\u001b[0m\u001b[0;34m\u001b[0m\u001b[0m\n\u001b[0;32m----> 2\u001b[0;31m \u001b[0mover1M\u001b[0m\u001b[0;34m.\u001b[0m\u001b[0mto_json\u001b[0m\u001b[0;34m(\u001b[0m\u001b[0;34m\"../source/gaming-designover1M.json\"\u001b[0m\u001b[0;34m,\u001b[0m \u001b[0morient\u001b[0m\u001b[0;34m=\u001b[0m\u001b[0;34m\"records\"\u001b[0m\u001b[0;34m)\u001b[0m\u001b[0;34m\u001b[0m\u001b[0;34m\u001b[0m\u001b[0m\n\u001b[0m",
      "\u001b[0;32m~/.local/lib/python3.7/site-packages/pandas/core/generic.py\u001b[0m in \u001b[0;36mto_json\u001b[0;34m(self, path_or_buf, orient, date_format, double_precision, force_ascii, date_unit, default_handler, lines, compression, index, indent)\u001b[0m\n\u001b[1;32m   2361\u001b[0m             \u001b[0mcompression\u001b[0m\u001b[0;34m=\u001b[0m\u001b[0mcompression\u001b[0m\u001b[0;34m,\u001b[0m\u001b[0;34m\u001b[0m\u001b[0;34m\u001b[0m\u001b[0m\n\u001b[1;32m   2362\u001b[0m             \u001b[0mindex\u001b[0m\u001b[0;34m=\u001b[0m\u001b[0mindex\u001b[0m\u001b[0;34m,\u001b[0m\u001b[0;34m\u001b[0m\u001b[0;34m\u001b[0m\u001b[0m\n\u001b[0;32m-> 2363\u001b[0;31m             \u001b[0mindent\u001b[0m\u001b[0;34m=\u001b[0m\u001b[0mindent\u001b[0m\u001b[0;34m,\u001b[0m\u001b[0;34m\u001b[0m\u001b[0;34m\u001b[0m\u001b[0m\n\u001b[0m\u001b[1;32m   2364\u001b[0m         )\n\u001b[1;32m   2365\u001b[0m \u001b[0;34m\u001b[0m\u001b[0m\n",
      "\u001b[0;32m~/.local/lib/python3.7/site-packages/pandas/io/json/_json.py\u001b[0m in \u001b[0;36mto_json\u001b[0;34m(path_or_buf, obj, orient, date_format, double_precision, force_ascii, date_unit, default_handler, lines, compression, index, indent)\u001b[0m\n\u001b[1;32m     83\u001b[0m         \u001b[0mdefault_handler\u001b[0m\u001b[0;34m=\u001b[0m\u001b[0mdefault_handler\u001b[0m\u001b[0;34m,\u001b[0m\u001b[0;34m\u001b[0m\u001b[0;34m\u001b[0m\u001b[0m\n\u001b[1;32m     84\u001b[0m         \u001b[0mindex\u001b[0m\u001b[0;34m=\u001b[0m\u001b[0mindex\u001b[0m\u001b[0;34m,\u001b[0m\u001b[0;34m\u001b[0m\u001b[0;34m\u001b[0m\u001b[0m\n\u001b[0;32m---> 85\u001b[0;31m         \u001b[0mindent\u001b[0m\u001b[0;34m=\u001b[0m\u001b[0mindent\u001b[0m\u001b[0;34m,\u001b[0m\u001b[0;34m\u001b[0m\u001b[0;34m\u001b[0m\u001b[0m\n\u001b[0m\u001b[1;32m     86\u001b[0m     ).write()\n\u001b[1;32m     87\u001b[0m \u001b[0;34m\u001b[0m\u001b[0m\n",
      "\u001b[0;32m~/.local/lib/python3.7/site-packages/pandas/io/json/_json.py\u001b[0m in \u001b[0;36mwrite\u001b[0;34m(self)\u001b[0m\n\u001b[1;32m    143\u001b[0m             \u001b[0mself\u001b[0m\u001b[0;34m.\u001b[0m\u001b[0mdate_format\u001b[0m \u001b[0;34m==\u001b[0m \u001b[0;34m\"iso\"\u001b[0m\u001b[0;34m,\u001b[0m\u001b[0;34m\u001b[0m\u001b[0;34m\u001b[0m\u001b[0m\n\u001b[1;32m    144\u001b[0m             \u001b[0mself\u001b[0m\u001b[0;34m.\u001b[0m\u001b[0mdefault_handler\u001b[0m\u001b[0;34m,\u001b[0m\u001b[0;34m\u001b[0m\u001b[0;34m\u001b[0m\u001b[0m\n\u001b[0;32m--> 145\u001b[0;31m             \u001b[0mself\u001b[0m\u001b[0;34m.\u001b[0m\u001b[0mindent\u001b[0m\u001b[0;34m,\u001b[0m\u001b[0;34m\u001b[0m\u001b[0;34m\u001b[0m\u001b[0m\n\u001b[0m\u001b[1;32m    146\u001b[0m         )\n\u001b[1;32m    147\u001b[0m \u001b[0;34m\u001b[0m\u001b[0m\n",
      "\u001b[0;32m~/.local/lib/python3.7/site-packages/pandas/io/json/_json.py\u001b[0m in \u001b[0;36m_write\u001b[0;34m(self, obj, orient, double_precision, ensure_ascii, date_unit, iso_dates, default_handler, indent)\u001b[0m\n\u001b[1;32m    243\u001b[0m             \u001b[0miso_dates\u001b[0m\u001b[0;34m,\u001b[0m\u001b[0;34m\u001b[0m\u001b[0;34m\u001b[0m\u001b[0m\n\u001b[1;32m    244\u001b[0m             \u001b[0mdefault_handler\u001b[0m\u001b[0;34m,\u001b[0m\u001b[0;34m\u001b[0m\u001b[0;34m\u001b[0m\u001b[0m\n\u001b[0;32m--> 245\u001b[0;31m             \u001b[0mindent\u001b[0m\u001b[0;34m,\u001b[0m\u001b[0;34m\u001b[0m\u001b[0;34m\u001b[0m\u001b[0m\n\u001b[0m\u001b[1;32m    246\u001b[0m         )\n\u001b[1;32m    247\u001b[0m \u001b[0;34m\u001b[0m\u001b[0m\n",
      "\u001b[0;32m~/.local/lib/python3.7/site-packages/pandas/io/json/_json.py\u001b[0m in \u001b[0;36m_write\u001b[0;34m(self, obj, orient, double_precision, ensure_ascii, date_unit, iso_dates, default_handler, indent)\u001b[0m\n\u001b[1;32m    165\u001b[0m             \u001b[0miso_dates\u001b[0m\u001b[0;34m=\u001b[0m\u001b[0miso_dates\u001b[0m\u001b[0;34m,\u001b[0m\u001b[0;34m\u001b[0m\u001b[0;34m\u001b[0m\u001b[0m\n\u001b[1;32m    166\u001b[0m             \u001b[0mdefault_handler\u001b[0m\u001b[0;34m=\u001b[0m\u001b[0mdefault_handler\u001b[0m\u001b[0;34m,\u001b[0m\u001b[0;34m\u001b[0m\u001b[0;34m\u001b[0m\u001b[0m\n\u001b[0;32m--> 167\u001b[0;31m             \u001b[0mindent\u001b[0m\u001b[0;34m=\u001b[0m\u001b[0mindent\u001b[0m\u001b[0;34m,\u001b[0m\u001b[0;34m\u001b[0m\u001b[0;34m\u001b[0m\u001b[0m\n\u001b[0m\u001b[1;32m    168\u001b[0m         )\n\u001b[1;32m    169\u001b[0m \u001b[0;34m\u001b[0m\u001b[0m\n",
      "\u001b[0;31mOverflowError\u001b[0m: Unterminated UTF-8 sequence when encoding string"
     ]
    }
   ],
   "source": [
    "over1M = over1M[(over1M['latitude'] < 90) & (over1M['latitude'] > -90) & (over1M['longitude'] < 180) & (over1M['longitude'] > -180)]\n",
    "over1M.to_json(\"../source/gaming-designover1M.json\", orient=\"records\")"
   ]
  },
  {
   "cell_type": "code",
   "execution_count": 0,
   "metadata": {},
   "outputs": [],
   "source": [
    "gdf = gpd.GeoDataFrame(over1M, geometry=gpd.points_from_xy(over1M.longitude, over1M.latitude))\n",
    "print(f'Tipo: {type(gdf)}')\n",
    "gdf.head()\n",
    "gdf.to_csv(index=)"
   ]
  },
  {
   "cell_type": "code",
   "execution_count": 0,
   "metadata": {},
   "outputs": [],
   "source": [
    "gdf2 = gdf.dropna()\n",
    "gdf2.drop(columns = ['location'], inplace = True)\n",
    "gdf2.head()"
   ]
  },
  {
   "cell_type": "code",
   "execution_count": 0,
   "metadata": {},
   "outputs": [],
   "source": [
    "gdf2.to_csv(\"../output/gaming-designcompanies1M.csv\")\n",
    "type(gdf2)"
   ]
  },
  {
   "cell_type": "code",
   "execution_count": 0,
   "metadata": {},
   "outputs": [],
   "source": [
    "geojson = gdf2[['geometry']].to_file(\"output.geojson\", driver=\"GeoJSON\")\n",
    "\n",
    "#df = gpd.read_file(\"../output/gaming-designcompanies1M.json\", crs='EPSG:4326')"
   ]
  },
  {
   "cell_type": "code",
   "execution_count": 0,
   "metadata": {},
   "outputs": [],
   "source": [
    "df = gpd.read_file(\"output.geojson\", crs='EPSG:4326')\n",
    "gdf2.head()"
   ]
  },
  {
   "cell_type": "code",
   "execution_count": 0,
   "metadata": {},
   "outputs": [],
   "source": [
    "Map(Layer(df))\n"
   ]
  },
  {
   "cell_type": "markdown",
   "execution_count": null,
   "metadata": {},
   "outputs": [],
   "source": [
    "# Switching to Folium\n",
    "\n",
    "Unfortunately our efforts in trying to convert these points into a cartoframe have not been very succesful. We can try to visualize the list of points we have now in Folium instead."
   ]
  },
  {
   "cell_type": "code",
   "execution_count": 0,
   "metadata": {},
   "outputs": [],
   "source": [
    "import folium\n",
    "from folium import Choropleth, Circle, Marker\n",
    "from folium.plugins import HeatMap, MarkerCluster\n"
   ]
  },
  {
   "cell_type": "code",
   "execution_count": 0,
   "metadata": {},
   "outputs": [],
   "source": [
    "start_lat = 40.408561\n",
    "start_lon = -3.6917665\n",
    "m = folium.Map(location=[start_lat, start_lon], zoom_start=3)\n",
    "#heat_m"
   ]
  },
  {
   "cell_type": "code",
   "execution_count": 0,
   "metadata": {},
   "outputs": [],
   "source": [
    "coords = zip(gdf2.longitude, gdf.latitude)\n",
    "#print(list(coords))\n",
    "for lon, lat in coords:\n",
    "   m.add_child(Marker([lat, lon], icon=folium.Icon(color='green', icon='asterisk'))) "
   ]
  },
  {
   "cell_type": "code",
   "execution_count": 0,
   "metadata": {},
   "outputs": [],
   "source": [
    "heat_m"
   ]
  },
  {
   "cell_type": "code",
   "execution_count": 0,
   "metadata": {},
   "outputs": [],
   "source": [
    "# In order to get a different type of marker, we would have to look further into the circle option. For now we're not quite getting it to work. \n",
    "# link here: https://python-visualization.github.io/folium/quickstart.html\n",
    "coords = zip(gdf2.longitude, gdf.latitude)\n",
    "#print(list(coords))\n",
    "for lon, lat in coords:\n",
    "   m.add_child(folium.CircleMarker([lat, lon], radius=10)) "
   ]
  },
  {
   "cell_type": "markdown",
   "execution_count": null,
   "metadata": {},
   "outputs": [],
   "source": [
    "Now we have a general idea of where the ~80 companies we selected are located. We can now continue to explore the other conditions."
   ]
  },
  {
   "cell_type": "code",
   "execution_count": null,
   "metadata": {},
   "outputs": [],
   "source": []
  }
 ]
}