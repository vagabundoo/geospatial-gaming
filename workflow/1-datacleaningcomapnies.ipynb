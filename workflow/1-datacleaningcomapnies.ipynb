{
 "nbformat": 4,
 "nbformat_minor": 2,
 "metadata": {
  "language_info": {
   "name": "python",
   "codemirror_mode": {
    "name": "ipython",
    "version": 3
   },
   "version": "3.7.6-final"
  },
  "orig_nbformat": 2,
  "file_extension": ".py",
  "mimetype": "text/x-python",
  "name": "python",
  "npconvert_exporter": "python",
  "pygments_lexer": "ipython3",
  "version": 3,
  "kernelspec": {
   "name": "python37664bitc736265aa96942798be544ff59087e30",
   "display_name": "Python 3.7.6 64-bit"
  }
 },
 "cells": [
  {
   "cell_type": "code",
   "execution_count": 1,
   "metadata": {},
   "outputs": [],
   "source": [
    "from pymongo import MongoClient\n",
    "client = MongoClient(\"mongodb://localhost/companies\")\n",
    "db = client.get_database()"
   ]
  },
  {
   "cell_type": "code",
   "execution_count": 2,
   "metadata": {},
   "outputs": [
    {
     "name": "stderr",
     "output_type": "stream",
     "text": "Python-dotenv could not parse statement starting at line 4\nWe have a Foursquare token: N\n"
    }
   ],
   "source": [
    "import os\n",
    "from dotenv import load_dotenv\n",
    "load_dotenv()\n",
    "\n",
    "token = os.getenv(\"FourSquareID\")\n",
    "print(f\"We have a Foursquare token: {token[0]}\")"
   ]
  },
  {
   "cell_type": "code",
   "execution_count": 3,
   "metadata": {},
   "outputs": [
    {
     "data": {
      "text/plain": "d</a> and <a href=\"http://www.xdrive.com\" title=\"Xdrive\" rel=\"nofollow\">Xdrive</a>.</p>',\n  'image': {'available_sizes': [[[150, 85],\n     'assets/images/resized/0000/0823/823v1-max-150x150.jpg'],\n    [[150, 85], 'assets/images/resized/0000/0823/823v1-max-250x250.jpg'],\n    [[150, 85], 'assets/images/resized/0000/0823/823v1-max-450x450.jpg']],\n   'attribution': None},\n  'products': [{'name': 'Omnidrive', 'permalink': 'omnidrive'}],\n  'relationships': [{'is_past': True,\n    'title': 'Co-founder',\n    'person': {'first_name': 'Geoff',\n     'last_name': 'McQueen',\n     'permalink': 'geoff-mcqueen'}},\n   {'is_past': True,\n    'title': 'Founder & CEO',\n    'person': {'first_name': 'Nik',\n     'last_name': 'Cubrilovic',\n     'permalink': 'nik-cubrilovic'}},\n   {'is_past': True,\n    'title': '',\n    'person': {'first_name': 'Tony',\n     'last_name': 'Guntharp',\n     'permalink': 'tony-guntharp'}},\n   {'is_past': True,\n    'title': 'Board of Advisors',\n    'person': {'first_name': 'Mike',\n     'last_name': 'Cannon-Brookes',\n     'permalink': 'mike-cannon-brookes'}}],\n  'competitions': [{'competitor': {'name': 'Dropbox', 'permalink': 'dropbox'}},\n   {'competitor': {'name': 'filobite', 'permalink': 'filobite'}},\n   {'competitor': {'name': 'digitalbucket.net', 'permalink': 'digitalbucket'}},\n   {'competitor': {'name': 'ElephantDrive', 'permalink': 'elephantdrive'}},\n   {'competitor': {'name': 'Banckle Customer Service 2.0',\n     'permalink': 'banckle'}}],\n  'providerships': [],\n  'total_money_raised': '$800k',\n  'funding_rounds': [{'id': 225,\n    'round_code': 'angel',\n    'source_url': '',\n    'source_description': '',\n    'raised_amount': 800000,\n    'raised_currency_code': 'USD',\n    'funded_year': 2006,\n    'funded_month': 12,\n    'funded_day': 1,\n    'investments': [{'company': None,\n      'financial_org': None,\n      'person': {'first_name': 'Michael',\n       'last_name': 'Arrington',\n       'permalink': 'michael-arrington'}},\n     {'company': None,\n      'financial_org': None,\n      'person': {'first_name': 'Aydin',\n       'last_name': 'Senkut',\n       'permalink': 'aydin-senkut'}},\n     {'company': None,\n      'financial_org': None,\n      'person': {'first_name': 'Georges',\n       'last_name': 'Harik',\n       'permalink': 'georges-harik'}},\n     {'company': None,\n      'financial_org': None,\n      'person': {'first_name': 'Jeff',\n       'last_name': 'Clavier',\n       'permalink': 'jeff-clavier'}}]}],\n  'investments': [],\n  'acquisition': None,\n  'acquisitions': [],\n  'offices': [{'description': '',\n    'address1': 'Suite 200',\n    'address2': '654 High Street',\n    'zip_code': '94301',\n    'city': 'Palo Alto',\n    'state_code': 'CA',\n    'country_code': 'ISR',\n    'latitude': None,\n    'longitude': None}],\n  'milestones': [],\n  'ipo': None,\n  'video_embeds': [],\n  'screenshots': [],\n  'external_links': [],\n  'partners': []},\n {'_id': ObjectId('52cdef7c4bab8bd675297d8c'),\n  'name': 'Zoho',\n  'permalink': 'abc4',\n  'crunchbase_url': 'http://www.crunchbase.com/company/zoho',\n  'homepage_url': 'http://zoho.com',\n  'blog_url': 'http://blogs.zoho.com/',\n  'blog_feed_url': 'http://blogs.zoho.com/feed',\n  'twitter_username': 'zoho',\n  'category_code': 'software',\n  'number_of_employees': 1600,\n  'founded_year': 2005,\n  'founded_month': 9,\n  'founded_day': 15,\n  'deadpooled_year': 3,\n  'tag_list': 'zoho, officesuite, spreadsheet, writer, projects, sheet, crm, show, creator, wiki, planner, suite, notebook, chat, meeting, mail',\n  'alias_list': '',\n  'email_address': 'info@zohocorp.com',\n  'phone_number': '1-888-204-3539',\n  'description': 'Online Business Apps Suite',\n  'created_at': 'Fri May 25 19:30:28 UTC 2007',\n  'updated_at': 'Wed Oct 30 00:07:05 UTC 2013',\n  'overview': '<p>Zoho offers a suite of Business, Collaboration &amp; Productivity applications. Apps include CRM, Customer Support, Office Suite, Email Hosting, Project Management, Accounting, App Creator among many others. </p>\\n\\n<p>Zoho&#8217;s parent company is Zoho Corp (previously AdventNet), &#8220;a software company started in 1996 focusing on building quality and affordable software for businesses.&#8221; </p>\\n\\n<p>Zoho&#8217;s main competitors are <a href=\"/company/google\" title=\"Google\" rel=\"nofollow\">Google</a> Docs &amp; Spreadsheets, Salesforce as well as <a href=\"/company/microsoft\" title=\"Microsoft\" rel=\"nofollow\">Microsoft</a> Office.</p>',\n  'image': {'available_sizes': [[[150, 55],\n     'assets/images/resized/0000/3946/3946v12-max-150x150.png'],\n    [[250, 92], 'assets/images/resized/0000/3946/3946v12-max-250x250.png'],\n    [[435, 161], 'assets/images/resized/0000/3946/3946v12-max-450x450.png']]},\n  'products': [{'name': 'Zoho Office Suite', 'permalink': 'zoho-office-suite'},\n   {'name': 'Zoho CRM', 'permalink': 'zoho-crm'},\n   {'name': 'Zoho Assist', 'permalink': 'zoho-assist'}],\n  'relationships': [{'is_past': False,\n    'title': 'CEO and Founder',\n    'person': {'first_name': 'Sridhar',\n     'last_name': 'Vembu',\n     'permalink': 'sridhar-vembu'}},\n   {'is_past': False,\n    'title': 'VP Product Managment',\n    'person': {'first_name': 'Hyther',\n     'last_name': 'Nizam',\n     'permalink': 'hyther-nizam'}},\n   {'is_past': False,\n    'title': 'VP Marketing',\n    'person': {'first_name': 'Rodrigo',\n     'last_name': 'Vaca',\n     'permalink': 'rodrigo-vaca'}},\n   {'is_past': False,\n    'title': 'Evangelist',\n    'person': {'first_name': 'Raju',\n     'last_name': 'Vegesna',\n     'permalink': 'raju-vegesna'}},\n   {'is_past': False,\n    'title': 'Director of Product Managment',\n    'person': {'first_name': 'Gibu',\n     'last_name': 'Mathew',\n     'permalink': 'gibu-mathew'}},\n   {'is_past': False,\n    'title': 'VP Opration',\n    'person': {'first_name': 'Neil',\n     'last_name': 'Butani',\n     'permalink': 'neil-butani'}},\n   {'is_past': False,\n    'title': 'Director Of Engineering',\n    'person': {'first_name': 'Rajendran',\n     'last_name': 'Dandapani',\n     'permalink': 'rajendran-dandapani'}},\n   {'is_past': False,\n    'title': 'President',\n    'person': {'first_name': 'Raj',\n     'last_name': 'Sabhlok',\n     'permalink': 'raj-sabhlok'}},\n   {'is_past': False,\n    'title': 'GM Marketing',\n    'person': {'first_name': 'Mouttou',\n     'last_name': 'Sidambaram',\n     'permalink': 'mouttou-sidambaram'}},\n   {'is_past': False,\n    'title': 'Director of Product Management',\n    'person': {'first_name': 'Rajesh',\n     'last_name': 'Ganesan',\n     'permalink': 'rajesh-ganesan'}},\n   {'is_past': False,\n    'title': 'Marketing / Business Development Executive',\n    'person': {'first_name': 'Aravind',\n     'last_name': 'Natarajan',\n     'permalink': 'aravind-natarajan'}},\n   {'is_past': True,\n    'title': 'Senior Director Strategic Alliances',\n    'person': {'first_name': 'Ian',\n     'last_name': 'Wenig',\n     'permalink': 'ian-wenig'}},\n   {'is_past': True,\n    'title': 'Project Manager',\n    'person': {'first_name': 'Rajkumar',\n     'last_name': 'Radhakrishnan',\n     'permalink': 'rajkumar-radhakrishnan'}},\n   {'is_past': True,\n    'title': 'Technical Architect',\n    'person': {'first_name': 'KP',\n     'last_name': 'Saravanan',\n     'permalink': 'kp-saravanan'}},\n   {'is_past': True,\n    'title': 'Member, Technical Staff',\n    'person': {'first_name': 'Thiyagarajan',\n     'last_name': 'T',\n     'permalink': 'thiyagarajan-t'}},\n   {'is_past': True,\n    'title': 'Software Architect & Project Manager',\n    'person': {'first_name': 'Rajkumar',\n     'last_name': 'Radhakrishnan',\n     'permalink': 'rajkumar-radhakrishnan'}},\n   {'is_past': True,\n    'title': 'Director, Professional Services',\n    'person': {'first_name': 'Thomas',\n     'last_name': 'DiGrazia',\n     'permalink': 'thomas-digrazia'}},\n   {'is_past': True,\n    'title': 'Technical Architect',\n    'person': {'first_name': 'Rajaraman',\n     'last_name': 'S',\n     'permalink': 'rajaraman-s'}}],\n  'competitions': [{'competitor': {'name': 'Empressr',\n     'permalink': 'empressr'}},\n   {'competitor': {'name': 'Transmedia Corporation',\n     'permalink': 'transmedia'}},\n   {'competitor': {'name': 'Live Documents', 'permalink': 'livedocuments'}},\n   {'competitor': {'name': 'LongJump', 'permalink': 'longjump'}},\n   {'competitor': {'name': 'Phuser', 'permalink': 'phuser'}},\n   {'competitor': {'name': 'NetSuite', 'permalink': 'netsuite'}},\n   {'competitor': {'name': 'Google', 'permalink': 'google'}},\n   {'competitor': {'name': 'Flypaper', 'permalink': 'flypaper'}},\n   {'competitor': {'name': 'MovingLabs', 'permalink': 'movinglabs'}},\n   {'competitor': {'name': 'Ephox', 'permalink': 'ephox'}},\n   {'competitor': {'name': 'Coghead', 'permalink': 'coghead'}},\n   {'competitor': {'name': 'SlideRocket', 'permalink': 'sliderocket'}},\n   {'competitor': {'name': 'Cozimo', 'permalink': 'cozimo'}},\n   {'competitor': {'name': 'Nordic River', 'permalink': 'textflow'}},\n   {'competitor': {'name': 'Iceberg', 'permalink': 'iceberg'}},\n   {'competitor': {'name': 'Thinkfree', 'permalink': 'thinkfree'}},\n   {'competitor': {'name': 'Bizroof', 'permalink': 'bizroof'}},\n   {'competitor': {'name': 'Wolf Frameworks', 'permalink': 'wolf-frameworks'}},\n   {'competitor': {'name': '280 North', 'permalink': '280-north'}},\n   {'competitor': {'name': 'Workday', 'permalink': 'workday'}},\n   {'competitor': {'name': 'coAction.com', 'permalink': 'coaction-com'}},\n   {'competitor': {'name': 'INES CRM', 'permalink': 'ines-crm'}},\n   {'competitor': {'name': 'OpenERP', 'permalink': 'openerp'}},\n   {'competitor': {'name': 'Gurron', 'permalink': 'gurron'}},\n   {'competitor': {'name': 'LiquidPlanner', 'permalink': 'liquidplanner'}},\n   {'competitor': {'name': 'Helpshift, Inc.', 'permalink': 'helpshift-inc'}}],\n  'providerships': [],\n  'total_money_raised': '$0',\n  'funding_rounds': [],\n  'investments': [],\n  'acquisition': None,\n  'acquisitions': [],\n  'offices': [{'description': 'Headquarters',\n    'address1': '4900 Hopyard Rd',\n    'address2': 'Suite 310',\n    'zip_code': '94588',\n    'city': 'Pleasanton',\n    'state_code': 'CA',\n    'country_code': 'USA',\n    'latitude': 37.692934,\n    'longitude': -121.904945}],\n  'milestones': [{'id': 388,\n    'description': 'Zoho Reaches 2 Million Users',\n    'stoned_year': 2008,\n    'stoned_month': 8,\n    'stoned_day': 7,\n    'source_url': '',\n    'source_text': \"Mike,\\r\\n\\r\\nTomorrow @ 6AM PST, we are announcing that we now have 1 Million users. User registration stats are attached.\\r\\n\\r\\nIt took us 1 Year to get the first 100K users, 6 Months to get the second 100K, 4 Months to get the third etc. In the last 1 year we added 700K new users. The pace has been increasing.\\r\\n\\r\\nThe registration numbers really jumped after we added support for Google & Yahoo users. Currently over 30% of our users are coming from Google/Yahoo accounts (with more Google users than Yahoo users).\\r\\n\\r\\nI'd love to provide more information on this.\\r\\n\\r\\nRaju\\r\\n\\r\\n\",\n    'source_description': '',\n    'stoneable_type': 'Company',\n    'stoned_value': None,\n    'stoned_value_type': None,\n    'stoned_acquirer': None,\n    'stoneable': {'name': 'Zoho', 'permalink': 'zoho'}},\n   {'id': 6577,\n    'description': 'Zoho Calendar Steps Out Of Beta With Sharing, Subscribing And More',\n    'stoned_year': 2010,\n    'stoned_month': 7,\n    'stoned_day': 7,\n    'source_url': 'http://techcrunch.com/2010/07/07/zoho-calendar-steps-out-of-beta-with-sharing-subscribing-and-more/',\n    'source_text': '',\n    'source_description': 'Zoho Calendar Steps Out Of Beta With Sharing, Subscribing And More',\n    'stoneable_type': 'Company',\n    'stoned_value': None,\n    'stoned_value_type': None,\n    'stoned_acquirer': None,\n    'stoneable': {'name': 'Zoho', 'permalink': 'zoho'}},\n   {'id': 7360,\n    'description': 'Zoho Reports Steps Out Of Beta With Pricing Model And New Features',\n    'stoned_year': 2009,\n    'stoned_month': 12,\n    'stoned_day': 15,\n    'source_url': 'http://techcrunch.com/2009/12/15/zoho-reports-steps-out-of-beta-with-pricing-model-and-new-features/',\n    'source_text': None,\n    'source_description': 'Zoho Reports Steps Out Of Beta',\n    'stoneable_type': 'Company',\n    'stoned_value': None,\n    'stoned_value_type': None,\n    'stoned_acquirer': None,\n    'stoneable': {'name': 'Zoho', 'permalink': 'zoho'}}],\n  'video_embeds': [{'embed_code': '<object width=\"430\" height=\"270\"><param name=\"movie\" value=\"http://www.youtube.com/v/KgNcHyuo2MU&hl=en\"></param><param name=\"wmode\" value=\"transparent\"></param><embed src=\"http://www.youtube.com/v/KgNcHyuo2MU&hl=en\" type=\"application/x-shockwave-flash\" wmode=\"transparent\" width=\"430\" height=\"270\"></embed></object>',\n    'description': '<p><a href=\"http://pitches.techcrunch.com/pitch/10-zoho\" title=\"Zoho&#8217;s pitch\">Zoho&#8217;s pitch</a> from TechCrunch Elevator Pitches</p>'},\n   {'embed_code': '<embed src=\"http://blip.tv/play/hRbO5CAA\" type=\"application/x-shockwave-flash\" width=\"430\" height=\"270\" allowscriptaccess=\"always\" allowfullscreen=\"true\"></embed>',\n    'description': '<p>This video was originally published on <a href=\"http://www.beet.tv/2008/09/zoho-web-apps-c.html\" title=\"Beet.TV\" rel=\"nofollow\">Beet.TV</a></p>'},\n   {'embed_code': '<object width=\"430\" height=\"270\"><param name=\"movie\" value=\"http://www.youtube.com/v/3RD_3wooRjI&color1=0xb1b1b1&color2=0xcfcfcf&hl=en_US&feature=player_embedded&fs=1\"></param><param name=\"allowFullScreen\" value=\"true\"></param><param name=\"allowScriptAccess\" value=\"always\"></param><embed src=\"http://www.youtube.com/v/3RD_3wooRjI&color1=0xb1b1b1&color2=0xcfcfcf&hl=en_US&feature=player_embedded&fs=1\" type=\"application/x-shockwave-flash\" allowfullscreen=\"true\" allowScriptAccess=\"always\" width=\"430\" height=\"270\"></embed></object>',\n    'description': ''}],\n  'screenshots': [],\n  'external_links': [{'external_url': 'http://www.online-tech-tips.com/cool-websites/zoho-free-online-office-applications-word-processor-spreadsheets-etc/',\n    'title': 'Zoho Overview'},\n   {'external_url': 'http://www.online-tech-tips.com/cool-websites/free-online-web-meetings/',\n    'title': 'Zoho Meeting Review'},\n   {'external_url': 'http://mashpedia.com/Zoho', 'title': 'Zoho at Mashpedia'},\n   {'external_url': 'http://www.sitebuilderreport.com/reviews/zoho-sites/our-review',\n    'title': 'Zoho Sites Review'},\n   {'external_url': 'http://www.sitebuilderreport.com/reviews/zoho-sites/our-review',\n    'title': 'Zoho Sites Review'},\n   {'external_url': 'http://www.sitebuilderreport.com/reviews/zoho-sites/our-review',\n    'title': 'Zoho Sites Review'}],\n  'partners': []},\n {'_id': ObjectId('52cdef7c4bab8bd675297d90'),\n  'name': 'Postini',\n  'permalink': 'postini',\n  'crunchbase_url': 'http://www.crunchbase.com/company/postini',\n  'homepage_url': 'http://postini.com',\n  'blog_url': '',\n  'blog_feed_url': '',\n  'twitter_username': None,\n  'category_code': 'web',\n  'number_of_employees': None,\n  'founded_year': 1999,\n  'founded_month': 6,\n  'founded_day': 2,\n  'deadpooled_year': None,\n  'deadpooled_month': None,\n  'deadpooled_day': None,\n  'deadpooled_url': None,\n  'tag_list': '',\n  'alias_list': None,\n  'email_address': '',\n  'phone_number': '888.584.3150',\n  'description': None,\n  'created_at': 'Fri Jun 08 12:19:51 UTC 2007',\n  'updated_at': 'Sat Aug 13 18:02:34 UTC 2011',\n  'overview': '<p>Postini focuses on two main issues: security and compliance. Postini states that it handles more than 1 billion messages everyday and protects more than 35,000 businesses worldwide.</p>\\n\\n<p>Postini offers solutions that protect your company from malicious internet attacks. The Postini Communications Suite eliminates unwanted content from email, instant messaging, and the web. Postini aims to increase business productivity. It will also automatically encrypt senstive messages between you and business partners.</p>\\n\\n<p>Postini currently holds two patents in the area of security and compliance. It was acquired by <a href=\"/company/google\" title=\"Google\" rel=\"nofollow\">Google</a> in 2007 and now operates as a subsidiary.</p>',\n  'image': {'available_sizes': [[[150, 61],\n     'assets/images/resized/0000/3697/3697v1-max-150x150.png'],\n    [[183, 75], 'assets/images/resized/0000/3697/3697v1-max-250x250.png'],\n    [[183, 75], 'assets/images/resized/0000/3697/3697v1-max-450x450.png']],\n   'attribution': None},\n  'products': [{'name': 'Postini Solutions',\n    'permalink': 'postini-solutions'}],\n  'relationships': [{'is_past': False,\n    'title': 'Board',\n    'person': {'first_name': 'Scott',\n     'last_name': 'Petry',\n     'permalink': 'scott-petry'}},\n   {'is_past': None,\n    'title': 'Board',\n    'person': {'first_name': 'Don',\n     'last_name': 'Beck',\n     'permalink': 'don-beck'}},\n   {'is_past': None,\n    'title': 'Board',\n    'person': {'first_name': 'Murray',\n     'last_name': 'J. Demo',\n     'permalink': 'murray-j-demo'}},\n   {'is_past': False,\n    'title': 'Director',\n    'person': {'first_name': 'Harrison',\n     'last_name': 'B. Miller',\n     'permalink': 'harrison-b-miller'}},\n   {'is_past': True,\n    'title': 'CFO',\n    'person': {'first_name': 'Murray',\n     'last_name': 'J. Demo',\n     'permalink': 'murray-j-demo'}},\n   {'is_past': True,\n    'title': 'VP Marketing',\n    'person': {'first_name': 'Steve',\n     'last_name': 'Kahan',\n     'permalink': 'steve-kahan'}},\n   {'is_past': True,\n    'title': 'SVP Sales and Marketing',\n    'person': {'first_name': 'Mike',\n     'last_name': 'Purcell',\n     'permalink': 'mike-purcell'}},\n   {'is_past': True,\n    'title': 'Executive Vice President',\n    'person': {'first_name': 'Jocelyn',\n     'last_name': 'Ding',\n     'permalink': 'jocelyn-ding'}},\n   {'is_past': True,\n    'title': 'Board',\n    'person': {'first_name': 'Quentin',\n     'last_name': 'Gallivan',\n     'permalink': 'quentin-gallivan'}},\n   {'is_past': True,\n    'title': 'Sr. EMEA Operations & Tech Support Manager',\n    'person': {'first_name': 'James',\n     'last_name': 'Chivers',\n     'permalink': 'james-chivers'}},\n   {'is_past': True,\n    'title': 'VP Client Services',\n    'person': {'first_name': 'Mark',\n     'last_name': 'Fishwick',\n     'permalink': 'mark-fishwick'}},\n   {'is_past': True,\n    'title': 'Board Member',\n    'person': {'first_name': 'Raman',\n     'last_name': 'Khanna',\n     'permalink': 'raman-khanna'}},\n   {'is_past': True,\n    'title': 'Board Member',\n    'person': {'first_name': 'Ryan',\n     'last_name': 'McIntyre',\n     'permalink': 'ryan-mcintyre'}},\n   {'is_past': True,\n    'title': 'Investor',\n    'person': {'first_name': 'John',\n     'last_name': 'Johnston',\n     'permalink': 'john-johnston'}},\n   {'is_past': True,\n    'title': 'Board Member',\n    'person': {'first_name': 'Roger',\n     'last_name': 'S. Siboni',\n     'permalink': 'roger-s-siboni'}},\n   {'is_past': True,\n    'title': 'Channel Sales',\n    'person': {'first_name': 'Al',\n     'last_name': 'Powell',\n     'permalink': 'al-powell'}}],\n  'competitions': [{'competitor': {'name': 'RescueTime',\n     'permalink': 'rescuetime'}},\n   {'competitor': {'name': 'MailBlocks', 'permalink': 'mailblocks'}},\n   {'competitor': {'name': 'Suzerein Solutions',\n     'permalink': 'suzerein-solutions'}}],\n  'providerships': [],\n  'total_money_raised': '$0',\n  'funding_rounds': [],\n  'investments': [],\n  'acquisition': {'price_amount': 625000000,\n   'price_currency_code': 'USD',\n   'term_code': 'cash',\n   'source_url': 'http://www.techcrunch.com/2007/07/09/google-acquires-postini-for-625-million/',\n   'source_description': 'http://www.techcrunch.com/2007/07/09/google-acquires-postini-for-625-million/',\n   'acquired_year': 2007,\n   'acquired_month': 7,\n   'acquired_day': 9,\n   'acquiring_company': {'name': 'Google', 'permalink': 'google'}},\n  'acquisitions': [],\n  'offices': [{'description': None,\n    'address1': '959 Skyway Road, Suite 200',\n    'address2': None,\n    'zip_code': '94070',\n    'city': 'San Carlos',\n    'state_code': 'CA',\n    'country_code': 'USA',\n    'latitude': 37.506885,\n    'longitude': -122.247573}],\n  'milestones': [],\n  'ipo': None,\n  'video_embeds': [],\n  'screenshots': [],\n  'external_links': [],\n  'partners': []}]"
     },
     "execution_count": 3,
     "metadata": {},
     "output_type": "execute_result"
    }
   ],
   "source": [
    "companies = list(db[\"companies\"].find()) #{\"name\":1,\"offices\":1,\"category_code\":1}\n",
    "companies[:5]"
   ]
  },
  {
   "cell_type": "code",
   "execution_count": 4,
   "metadata": {},
   "outputs": [
    {
     "data": {
      "text/html": "<div>\n<style scoped>\n    .dataframe tbody tr th:only-of-type {\n        vertical-align: middle;\n    }\n\n    .dataframe tbody tr th {\n        vertical-align: top;\n    }\n\n    .dataframe thead th {\n        text-align: right;\n    }\n</style>\n<table border=\"1\" class=\"dataframe\">\n  <thead>\n    <tr style=\"text-align: right;\">\n      <th></th>\n      <th>_id</th>\n      <th>name</th>\n      <th>permalink</th>\n      <th>crunchbase_url</th>\n      <th>homepage_url</th>\n      <th>blog_url</th>\n      <th>blog_feed_url</th>\n      <th>twitter_username</th>\n      <th>category_code</th>\n      <th>number_of_employees</th>\n      <th>...</th>\n      <th>video_embeds</th>\n      <th>screenshots</th>\n      <th>external_links</th>\n      <th>partners</th>\n      <th>founded_month</th>\n      <th>founded_day</th>\n      <th>deadpooled_month</th>\n      <th>deadpooled_day</th>\n      <th>deadpooled_url</th>\n      <th>ipo</th>\n    </tr>\n  </thead>\n  <tbody>\n    <tr>\n      <th>0</th>\n      <td>52cdef7c4bab8bd675297d8b</td>\n      <td>AdventNet</td>\n      <td>abc3</td>\n      <td>http://www.crunchbase.com/company/adventnet</td>\n      <td>http://adventnet.com</td>\n      <td></td>\n      <td></td>\n      <td>manageengine</td>\n      <td>enterprise</td>\n      <td>600.0</td>\n      <td>...</td>\n      <td>[]</td>\n      <td>[{'available_sizes': [[[150, 94], 'assets/imag...</td>\n      <td>[]</td>\n      <td>[]</td>\n      <td>NaN</td>\n      <td>NaN</td>\n      <td>NaN</td>\n      <td>NaN</td>\n      <td>NaN</td>\n      <td>NaN</td>\n    </tr>\n    <tr>\n      <th>1</th>\n      <td>52cdef7c4bab8bd675297d8a</td>\n      <td>Wetpaint</td>\n      <td>abc2</td>\n      <td>http://www.crunchbase.com/company/wetpaint</td>\n      <td>http://wetpaint-inc.com</td>\n      <td>http://digitalquarters.net/</td>\n      <td>http://digitalquarters.net/feed/</td>\n      <td>BachelrWetpaint</td>\n      <td>web</td>\n      <td>47.0</td>\n      <td>...</td>\n      <td>[]</td>\n      <td>[{'available_sizes': [[[150, 86], 'assets/imag...</td>\n      <td>[{'external_url': 'http://www.geekwire.com/201...</td>\n      <td>[]</td>\n      <td>10.0</td>\n      <td>17.0</td>\n      <td>NaN</td>\n      <td>NaN</td>\n      <td>NaN</td>\n      <td>NaN</td>\n    </tr>\n    <tr>\n      <th>2</th>\n      <td>52cdef7c4bab8bd675297d8f</td>\n      <td>Omnidrive</td>\n      <td>omnidrive</td>\n      <td>http://www.crunchbase.com/company/omnidrive</td>\n      <td>http://www.omnidrive.com</td>\n      <td>http://www.omnidrive.com/blog</td>\n      <td>http://feeds.feedburner.com/omnidrive</td>\n      <td>Nomadesk</td>\n      <td>network_hosting</td>\n      <td>NaN</td>\n      <td>...</td>\n      <td>[]</td>\n      <td>[]</td>\n      <td>[]</td>\n      <td>[]</td>\n      <td>11.0</td>\n      <td>1.0</td>\n      <td>9.0</td>\n      <td>15.0</td>\n      <td></td>\n      <td>None</td>\n    </tr>\n    <tr>\n      <th>3</th>\n      <td>52cdef7c4bab8bd675297d8c</td>\n      <td>Zoho</td>\n      <td>abc4</td>\n      <td>http://www.crunchbase.com/company/zoho</td>\n      <td>http://zoho.com</td>\n      <td>http://blogs.zoho.com/</td>\n      <td>http://blogs.zoho.com/feed</td>\n      <td>zoho</td>\n      <td>software</td>\n      <td>1600.0</td>\n      <td>...</td>\n      <td>[{'embed_code': '&lt;object width=\"430\" height=\"2...</td>\n      <td>[]</td>\n      <td>[{'external_url': 'http://www.online-tech-tips...</td>\n      <td>[]</td>\n      <td>9.0</td>\n      <td>15.0</td>\n      <td>NaN</td>\n      <td>NaN</td>\n      <td>NaN</td>\n      <td>NaN</td>\n    </tr>\n    <tr>\n      <th>4</th>\n      <td>52cdef7c4bab8bd675297d90</td>\n      <td>Postini</td>\n      <td>postini</td>\n      <td>http://www.crunchbase.com/company/postini</td>\n      <td>http://postini.com</td>\n      <td></td>\n      <td></td>\n      <td>None</td>\n      <td>web</td>\n      <td>NaN</td>\n      <td>...</td>\n      <td>[]</td>\n      <td>[]</td>\n      <td>[]</td>\n      <td>[]</td>\n      <td>6.0</td>\n      <td>2.0</td>\n      <td>NaN</td>\n      <td>NaN</td>\n      <td>None</td>\n      <td>None</td>\n    </tr>\n  </tbody>\n</table>\n<p>5 rows × 42 columns</p>\n</div>",
      "text/plain": "                        _id       name  permalink  \\\n0  52cdef7c4bab8bd675297d8b  AdventNet       abc3   \n1  52cdef7c4bab8bd675297d8a   Wetpaint       abc2   \n2  52cdef7c4bab8bd675297d8f  Omnidrive  omnidrive   \n3  52cdef7c4bab8bd675297d8c       Zoho       abc4   \n4  52cdef7c4bab8bd675297d90    Postini    postini   \n\n                                crunchbase_url              homepage_url  \\\n0  http://www.crunchbase.com/company/adventnet      http://adventnet.com   \n1   http://www.crunchbase.com/company/wetpaint   http://wetpaint-inc.com   \n2  http://www.crunchbase.com/company/omnidrive  http://www.omnidrive.com   \n3       http://www.crunchbase.com/company/zoho           http://zoho.com   \n4    http://www.crunchbase.com/company/postini        http://postini.com   \n\n                        blog_url                          blog_feed_url  \\\n0                                                                         \n1    http://digitalquarters.net/       http://digitalquarters.net/feed/   \n2  http://www.omnidrive.com/blog  http://feeds.feedburner.com/omnidrive   \n3         http://blogs.zoho.com/             http://blogs.zoho.com/feed   \n4                                                                         \n\n  twitter_username    category_code  number_of_employees  ...  \\\n0     manageengine       enterprise                600.0  ...   \n1  BachelrWetpaint              web                 47.0  ...   \n2         Nomadesk  network_hosting                  NaN  ...   \n3             zoho         software               1600.0  ...   \n4             None              web                  NaN  ...   \n\n                                        video_embeds  \\\n0                                                 []   \n1                                                 []   \n2                                                 []   \n3  [{'embed_code': '<object width=\"430\" height=\"2...   \n4                                                 []   \n\n                                         screenshots  \\\n0  [{'available_sizes': [[[150, 94], 'assets/imag...   \n1  [{'available_sizes': [[[150, 86], 'assets/imag...   \n2                                                 []   \n3                                                 []   \n4                                                 []   \n\n                                      external_links partners founded_month  \\\n0                                                 []       []           NaN   \n1  [{'external_url': 'http://www.geekwire.com/201...       []          10.0   \n2                                                 []       []          11.0   \n3  [{'external_url': 'http://www.online-tech-tips...       []           9.0   \n4                                                 []       []           6.0   \n\n  founded_day deadpooled_month deadpooled_day deadpooled_url   ipo  \n0         NaN              NaN            NaN            NaN   NaN  \n1        17.0              NaN            NaN            NaN   NaN  \n2         1.0              9.0           15.0                 None  \n3        15.0              NaN            NaN            NaN   NaN  \n4         2.0              NaN            NaN           None  None  \n\n[5 rows x 42 columns]"
     },
     "metadata": {},
     "output_type": "display_data"
    }
   ],
   "source": [
    "import pandas as pd\n",
    "df = pd.DataFrame(companies)\n",
    "display(df.head())"
   ]
  },
  {
   "cell_type": "code",
   "execution_count": 5,
   "metadata": {},
   "outputs": [],
   "source": [
    "df = df.explode('offices')\n",
    "dfOfficeData = df[[\"offices\"]].apply(lambda r: r.offices, result_type=\"expand\", axis=1)\n",
    "cleanData = pd.concat([df,dfOfficeData], axis=1)\n"
   ]
  },
  {
   "cell_type": "code",
   "execution_count": 6,
   "metadata": {},
   "outputs": [],
   "source": [
    "cleanData = cleanData.drop(columns=[\"_id\",\"offices\"])"
   ]
  },
  {
   "cell_type": "code",
   "execution_count": 8,
   "metadata": {},
   "outputs": [
    {
     "data": {
      "text/html": "<div>\n<style scoped>\n    .dataframe tbody tr th:only-of-type {\n        vertical-align: middle;\n    }\n\n    .dataframe tbody tr th {\n        vertical-align: top;\n    }\n\n    .dataframe thead th {\n        text-align: right;\n    }\n</style>\n<table border=\"1\" class=\"dataframe\">\n  <thead>\n    <tr style=\"text-align: right;\">\n      <th></th>\n      <th>latitude</th>\n      <th>longitude</th>\n      <th>location</th>\n    </tr>\n  </thead>\n  <tbody>\n    <tr>\n      <th>0</th>\n      <td>37.692934</td>\n      <td>-121.904945</td>\n      <td>{'type': 'Point', 'coordinates': [-121.904945,...</td>\n    </tr>\n    <tr>\n      <th>1</th>\n      <td>47.603122</td>\n      <td>-122.333253</td>\n      <td>{'type': 'Point', 'coordinates': [-122.333253,...</td>\n    </tr>\n    <tr>\n      <th>1</th>\n      <td>40.723731</td>\n      <td>-73.996431</td>\n      <td>{'type': 'Point', 'coordinates': [-73.9964312,...</td>\n    </tr>\n    <tr>\n      <th>2</th>\n      <td>NaN</td>\n      <td>NaN</td>\n      <td>None</td>\n    </tr>\n    <tr>\n      <th>3</th>\n      <td>37.692934</td>\n      <td>-121.904945</td>\n      <td>{'type': 'Point', 'coordinates': [-121.904945,...</td>\n    </tr>\n  </tbody>\n</table>\n</div>",
      "text/plain": "    latitude   longitude                                           location\n0  37.692934 -121.904945  {'type': 'Point', 'coordinates': [-121.904945,...\n1  47.603122 -122.333253  {'type': 'Point', 'coordinates': [-122.333253,...\n1  40.723731  -73.996431  {'type': 'Point', 'coordinates': [-73.9964312,...\n2        NaN         NaN                                               None\n3  37.692934 -121.904945  {'type': 'Point', 'coordinates': [-121.904945,..."
     },
     "execution_count": 8,
     "metadata": {},
     "output_type": "execute_result"
    }
   ],
   "source": [
    "import math\n",
    "def asGeoJSON(lat,lng):\n",
    "    try:\n",
    "        lat = float(lat)\n",
    "        lng = float(lng)\n",
    "        if not math.isnan(lat) and not math.isnan(lng):\n",
    "            return {\n",
    "                \"type\":\"Point\",\n",
    "                \"coordinates\":[lng,lat]\n",
    "            }\n",
    "    except Exception:\n",
    "        print(\"Invalid data\")\n",
    "        return None\n",
    "        \n",
    "\n",
    "cleanData[\"location\"] = cleanData[[\"latitude\",\"longitude\"]].apply(lambda x:asGeoJSON(x.latitude,x.longitude), axis=1)\n",
    "cleanData[[\"latitude\",\"longitude\",\"location\"]].head()"
   ]
  },
  {
   "cell_type": "code",
   "execution_count": 7,
   "metadata": {},
   "outputs": [],
   "source": [
    "#cleanData = cleanData.drop(columns=[\"latitude\",\"longitude\"])\n"
   ]
  },
  {
   "cell_type": "markdown",
   "execution_count": null,
   "metadata": {},
   "outputs": [],
   "source": [
    "## Resolving duplicate column\n",
    "\n",
    "We ran into an issue with transforming our dataframe back to a json - one of the columns is a duplicate. We can rename it to avoid the issue."
   ]
  },
  {
   "cell_type": "code",
   "execution_count": 9,
   "metadata": {},
   "outputs": [
    {
     "data": {
      "text/plain": "['description']"
     },
     "execution_count": 9,
     "metadata": {},
     "output_type": "execute_result"
    }
   ],
   "source": [
    "colscount = {item:list(cleanData.columns).count(item) for item in list(cleanData.columns)}\n",
    "[e for e in colscount if colscount[e] > 1] #this code lets us find the duplicate column, which is 'description'"
   ]
  },
  {
   "cell_type": "code",
   "execution_count": 10,
   "metadata": {},
   "outputs": [],
   "source": [
    "cleanData['description'] #We are giving the descriptions 1 and 2 numbers in order to avoid the error with duplicate columns.\n",
    "cols = []\n",
    "count = 1\n",
    "for column in cleanData.columns:\n",
    "    if column == 'description':\n",
    "        cols.append(f'description_{count}')\n",
    "        count+=1\n",
    "        continue\n",
    "    cols.append(column)\n",
    "cleanData.columns = cols"
   ]
  },
  {
   "cell_type": "code",
   "execution_count": 11,
   "metadata": {},
   "outputs": [
    {
     "data": {
      "text/html": "<div>\n<style scoped>\n    .dataframe tbody tr th:only-of-type {\n        vertical-align: middle;\n    }\n\n    .dataframe tbody tr th {\n        vertical-align: top;\n    }\n\n    .dataframe thead th {\n        text-align: right;\n    }\n</style>\n<table border=\"1\" class=\"dataframe\">\n  <thead>\n    <tr style=\"text-align: right;\">\n      <th></th>\n      <th>name</th>\n      <th>permalink</th>\n      <th>crunchbase_url</th>\n      <th>homepage_url</th>\n      <th>blog_url</th>\n      <th>blog_feed_url</th>\n      <th>twitter_username</th>\n      <th>category_code</th>\n      <th>number_of_employees</th>\n      <th>founded_year</th>\n      <th>...</th>\n      <th>description_2</th>\n      <th>address1</th>\n      <th>address2</th>\n      <th>zip_code</th>\n      <th>city</th>\n      <th>state_code</th>\n      <th>country_code</th>\n      <th>latitude</th>\n      <th>longitude</th>\n      <th>location</th>\n    </tr>\n  </thead>\n  <tbody>\n    <tr>\n      <th>0</th>\n      <td>AdventNet</td>\n      <td>abc3</td>\n      <td>http://www.crunchbase.com/company/adventnet</td>\n      <td>http://adventnet.com</td>\n      <td></td>\n      <td></td>\n      <td>manageengine</td>\n      <td>enterprise</td>\n      <td>600.0</td>\n      <td>1996.0</td>\n      <td>...</td>\n      <td>Headquarters</td>\n      <td>4900 Hopyard Rd.</td>\n      <td>Suite 310</td>\n      <td>94588</td>\n      <td>Pleasanton</td>\n      <td>CA</td>\n      <td>USA</td>\n      <td>37.692934</td>\n      <td>-121.904945</td>\n      <td>{'type': 'Point', 'coordinates': [-121.904945,...</td>\n    </tr>\n    <tr>\n      <th>1</th>\n      <td>Wetpaint</td>\n      <td>abc2</td>\n      <td>http://www.crunchbase.com/company/wetpaint</td>\n      <td>http://wetpaint-inc.com</td>\n      <td>http://digitalquarters.net/</td>\n      <td>http://digitalquarters.net/feed/</td>\n      <td>BachelrWetpaint</td>\n      <td>web</td>\n      <td>47.0</td>\n      <td>2005.0</td>\n      <td>...</td>\n      <td></td>\n      <td>710 - 2nd Avenue</td>\n      <td>Suite 1100</td>\n      <td>98104</td>\n      <td>Seattle</td>\n      <td>WA</td>\n      <td>USA</td>\n      <td>47.603122</td>\n      <td>-122.333253</td>\n      <td>{'type': 'Point', 'coordinates': [-122.333253,...</td>\n    </tr>\n    <tr>\n      <th>1</th>\n      <td>Wetpaint</td>\n      <td>abc2</td>\n      <td>http://www.crunchbase.com/company/wetpaint</td>\n      <td>http://wetpaint-inc.com</td>\n      <td>http://digitalquarters.net/</td>\n      <td>http://digitalquarters.net/feed/</td>\n      <td>BachelrWetpaint</td>\n      <td>web</td>\n      <td>47.0</td>\n      <td>2005.0</td>\n      <td>...</td>\n      <td></td>\n      <td>270 Lafayette Street</td>\n      <td>Suite 505</td>\n      <td>10012</td>\n      <td>New York</td>\n      <td>NY</td>\n      <td>USA</td>\n      <td>40.723731</td>\n      <td>-73.996431</td>\n      <td>{'type': 'Point', 'coordinates': [-73.9964312,...</td>\n    </tr>\n    <tr>\n      <th>2</th>\n      <td>Omnidrive</td>\n      <td>omnidrive</td>\n      <td>http://www.crunchbase.com/company/omnidrive</td>\n      <td>http://www.omnidrive.com</td>\n      <td>http://www.omnidrive.com/blog</td>\n      <td>http://feeds.feedburner.com/omnidrive</td>\n      <td>Nomadesk</td>\n      <td>network_hosting</td>\n      <td>NaN</td>\n      <td>2005.0</td>\n      <td>...</td>\n      <td></td>\n      <td>Suite 200</td>\n      <td>654 High Street</td>\n      <td>94301</td>\n      <td>Palo Alto</td>\n      <td>CA</td>\n      <td>ISR</td>\n      <td>NaN</td>\n      <td>NaN</td>\n      <td>None</td>\n    </tr>\n    <tr>\n      <th>3</th>\n      <td>Zoho</td>\n      <td>abc4</td>\n      <td>http://www.crunchbase.com/company/zoho</td>\n      <td>http://zoho.com</td>\n      <td>http://blogs.zoho.com/</td>\n      <td>http://blogs.zoho.com/feed</td>\n      <td>zoho</td>\n      <td>software</td>\n      <td>1600.0</td>\n      <td>2005.0</td>\n      <td>...</td>\n      <td>Headquarters</td>\n      <td>4900 Hopyard Rd</td>\n      <td>Suite 310</td>\n      <td>94588</td>\n      <td>Pleasanton</td>\n      <td>CA</td>\n      <td>USA</td>\n      <td>37.692934</td>\n      <td>-121.904945</td>\n      <td>{'type': 'Point', 'coordinates': [-121.904945,...</td>\n    </tr>\n  </tbody>\n</table>\n<p>5 rows × 50 columns</p>\n</div>",
      "text/plain": "        name  permalink                               crunchbase_url  \\\n0  AdventNet       abc3  http://www.crunchbase.com/company/adventnet   \n1   Wetpaint       abc2   http://www.crunchbase.com/company/wetpaint   \n1   Wetpaint       abc2   http://www.crunchbase.com/company/wetpaint   \n2  Omnidrive  omnidrive  http://www.crunchbase.com/company/omnidrive   \n3       Zoho       abc4       http://www.crunchbase.com/company/zoho   \n\n               homepage_url                       blog_url  \\\n0      http://adventnet.com                                  \n1   http://wetpaint-inc.com    http://digitalquarters.net/   \n1   http://wetpaint-inc.com    http://digitalquarters.net/   \n2  http://www.omnidrive.com  http://www.omnidrive.com/blog   \n3           http://zoho.com         http://blogs.zoho.com/   \n\n                           blog_feed_url twitter_username    category_code  \\\n0                                            manageengine       enterprise   \n1       http://digitalquarters.net/feed/  BachelrWetpaint              web   \n1       http://digitalquarters.net/feed/  BachelrWetpaint              web   \n2  http://feeds.feedburner.com/omnidrive         Nomadesk  network_hosting   \n3             http://blogs.zoho.com/feed             zoho         software   \n\n   number_of_employees  founded_year  ...  description_2  \\\n0                600.0        1996.0  ...   Headquarters   \n1                 47.0        2005.0  ...                  \n1                 47.0        2005.0  ...                  \n2                  NaN        2005.0  ...                  \n3               1600.0        2005.0  ...   Headquarters   \n\n               address1         address2 zip_code        city state_code  \\\n0      4900 Hopyard Rd.        Suite 310    94588  Pleasanton         CA   \n1      710 - 2nd Avenue       Suite 1100    98104     Seattle         WA   \n1  270 Lafayette Street        Suite 505    10012    New York         NY   \n2             Suite 200  654 High Street    94301   Palo Alto         CA   \n3       4900 Hopyard Rd        Suite 310    94588  Pleasanton         CA   \n\n  country_code   latitude   longitude  \\\n0          USA  37.692934 -121.904945   \n1          USA  47.603122 -122.333253   \n1          USA  40.723731  -73.996431   \n2          ISR        NaN         NaN   \n3          USA  37.692934 -121.904945   \n\n                                            location  \n0  {'type': 'Point', 'coordinates': [-121.904945,...  \n1  {'type': 'Point', 'coordinates': [-122.333253,...  \n1  {'type': 'Point', 'coordinates': [-73.9964312,...  \n2                                               None  \n3  {'type': 'Point', 'coordinates': [-121.904945,...  \n\n[5 rows x 50 columns]"
     },
     "execution_count": 11,
     "metadata": {},
     "output_type": "execute_result"
    }
   ],
   "source": [
    "cleanData.head()"
   ]
  },
  {
   "cell_type": "code",
   "execution_count": 12,
   "metadata": {},
   "outputs": [],
   "source": [
    "# When exporting data for mongoimport, REMEMBER! -> orient=records\n",
    "cleanData.to_json(\"../source/cleaned_offices.json\", orient=\"records\")\n",
    "\n",
    "# Next step: \n",
    "# mongoimport --db companies --collection companies_wlocation --jsonArray --drop cleaned_offices.json\n",
    "\n",
    "## Create geospartial index\n",
    "# Indexes > Create Index > (write any indexname) > Select fieldname:\"location\" and 2dsphere\n"
   ]
  },
  {
   "cell_type": "code",
   "execution_count": null,
   "metadata": {},
   "outputs": [],
   "source": []
  }
 ]
}